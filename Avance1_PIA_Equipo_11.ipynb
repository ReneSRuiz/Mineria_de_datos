{
  "nbformat": 4,
  "nbformat_minor": 0,
  "metadata": {
    "colab": {
      "name": "Avance1_PIA_Equipo_11.ipynb",
      "provenance": [],
      "collapsed_sections": [],
      "authorship_tag": "ABX9TyNIgaIusbMi4q1y9KwMQ/eH",
      "include_colab_link": true
    },
    "kernelspec": {
      "name": "python3",
      "display_name": "Python 3"
    },
    "language_info": {
      "name": "python"
    }
  },
  "cells": [
    {
      "cell_type": "markdown",
      "metadata": {
        "id": "view-in-github",
        "colab_type": "text"
      },
      "source": [
        "<a href=\"https://colab.research.google.com/github/ReneSRuiz/Mineria_de_datos/blob/main/Avance1_PIA_Equipo_11.ipynb\" target=\"_parent\"><img src=\"https://colab.research.google.com/assets/colab-badge.svg\" alt=\"Open In Colab\"/></a>"
      ]
    },
    {
      "cell_type": "markdown",
      "metadata": {
        "id": "QwABWErW1oSV"
      },
      "source": [
        "**Equipo:** 11  \n",
        "**Grupo:** 001  \n",
        "**Frecuencia:** lunes  \n",
        "**Integrantes:**\n",
        "\n",
        " *   Alejandro Uriel García Alanís 1886968\n",
        " *   Jorge Eduardo Estrada Dávila 1741943\n",
        " *   Néstor Misael Paz Reyes 1559508\n",
        " *   Elisa González García 1858207\n",
        " *   Rene Sobrevilla Ruiz 1941452 \n"
      ]
    },
    {
      "cell_type": "markdown",
      "metadata": {
        "id": "UzBeC1uNyXq1"
      },
      "source": [
        "**BASE DE DATOS PRINCIPAL**  \n",
        "**1) Título de la base de datos**  \n",
        "En nombre oficial de la base de datos es \"Lichess September 2020 data\", la cual se puede encontrar por el siguiente enlace: https://www.kaggle.com/noobiedatascientist/lichess-september-2020-data?select=Sept_20_analysis.csv"
      ]
    },
    {
      "cell_type": "markdown",
      "metadata": {
        "id": "-cB3-YTxytLg"
      },
      "source": [
        "**2) Introducción general**  \n",
        "El ajedrez es un juego con muchos años de antigüedad, sencillo de entender pero con una dificultad estratégica muy interesante. Se cree que los grandes reyes y estrategas militares veían al ajedrez como una forma de estudiar a sus enemigos y mejorar como líderes. El ajedrez a tenido momentos importantes en la historia humana, desde juegos amistosos para generar alianzas entre reyes como el fin de épocas importantes como lo fué la primera victoria de un americano contra la URSS, país que dominaba este deporte en tiempos de guerra fría, significando una victoria moral para EUA.  \n",
        "El ajedrez era un deporte de nicho, popular entre gente que buscaba un juego estratégico y gente que ama el análisis tan complejo de este. Pero en tiempos modernos, con estrenos de series muy famosas, ejemplo Gambito de Dama, este juego ha alcanzado una popularuidad muy alta. Ahora, no solamente las personas \"inteligentes\" lo juegan, sino que la persona común se ha animado a aprender de este juego tan impresionante y educativo."
      ]
    },
    {
      "cell_type": "markdown",
      "metadata": {
        "id": "sekQVODV1qfR"
      },
      "source": [
        "**3) Descripción de los datos**  \n",
        "Los datos de la base seleccionada estan en una tabla. En total, son más de 3 millones de filas, y 40 columnas. Cada fila representa un enfrentamiento entre 2 personas y las columnas nos revelan varios datos, como el tipo de juego, el \"elo\" de los jugadores, la fecha del juego, resultados, momentos importantes, nombre de aperturas, movimientos y errores de ambos, entre otros. Hay datos tanto enteros, flotantes y objetos (cadenas de caracteres y fechas)."
      ]
    },
    {
      "cell_type": "markdown",
      "metadata": {
        "id": "zN_pihnVN4pJ"
      },
      "source": [
        "**4) Justificación del uso de datos.**   \n",
        "Creemos que la base de datos es muy completa, ya que tiene detallado cada movimiento de los jugadores, como el estado de la partida que estos jugaron. Además, la información está muy completa, sin muchos datos nulos que puedan afectar nuestro trabajo.\n",
        "Hablando de los beneficios, al estar en su mayoria completos, creemos que podemos obtener resultados significativos y que nos ayuden a solucionar el problema planteado y analizar este juego de una manera más significativa. Es verdad que al ser muchos datos, se tardará en realizar los procesos programados, pero con paciencia, estos pueden ser muy reveladores."
      ]
    },
    {
      "cell_type": "markdown",
      "metadata": {
        "id": "C_xlDCo1O-Js"
      },
      "source": [
        "**5) Objetivo final.**  \n",
        "Nuestro objetivo principal es poder clasificar las mejores aperturas del ajedrez, dependiento del \"elo\" que tengan los jugadores y la eficacia de estas aperturas para la creación de entrategias ganadoras.  \n",
        "Creemos que, con estos datos, podemos crear la clasificación antes mencionada y ayudar a las personas nuevas, o un poco mas experimentadas, a saber cual apertura funciona mejor dependiendo de su desempeño como de gustos, y asi, poder estudiar la apertura perfecta o cambiar su estrategia para que esta se ajuste a su estilo."
      ]
    },
    {
      "cell_type": "markdown",
      "metadata": {
        "id": "-YT-q3eEP5iZ"
      },
      "source": [
        "**6) Mencionar preguntas de interés.**  \n",
        "Hay varias cosas interesantes que podemos indagar sobre esta base, como lo pueden ser:  \n",
        "* ¿Se juegan más aperturas clásicas o modernas?  \n",
        "* ¿El tiempo promedio de juego aumenta conforme el rival?, es decir, ¿Mientras mas \"elo\" tienen los rivales, mas largas son estas partidas?\n",
        "* ¿Son igual de efectivas las aperturas populares entre la gente de \"elo bajo\" en los \"elos altos\"?  \n",
        "* ¿Las aperturas favoritas de los \"elos altos\" son efectivas en los \"elos bajos\"?\n",
        "* ¿Que tantas jugadas inadecuadas, meteduiras de patas o volteos de juego tiene un jugador de \"low elo\" comparado con los de mayor \"elo\"?"
      ]
    },
    {
      "cell_type": "markdown",
      "metadata": {
        "id": "7TuzIO52RqYE"
      },
      "source": [
        "**7) Parte de programación.**  \n",
        "* **Importar librerias y base de datos.**  "
      ]
    },
    {
      "cell_type": "code",
      "metadata": {
        "id": "X-9u8WZKSEBE",
        "colab": {
          "resources": {
            "http://localhost:8080/nbextensions/google.colab/files.js": {
              "data": "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",
              "ok": true,
              "headers": [
                [
                  "content-type",
                  "application/javascript"
                ]
              ],
              "status": 200,
              "status_text": "OK"
            }
          },
          "base_uri": "https://localhost:8080/",
          "height": 74
        },
        "outputId": "44c4cdc5-bee7-4a00-ffa7-eb41a9b6a88e"
      },
      "source": [
        "#importando las librerias\n",
        "import pandas as pd\n",
        "import numpy as np\n",
        "#Importar la base de datos al google colab\n",
        "from google.colab import files\n",
        "files.upload()\n",
        "#Nuestros datos a trabajar son\n",
        "df = pd.read_csv(\"Sept_20_analysis.csv\")"
      ],
      "execution_count": null,
      "outputs": [
        {
          "output_type": "display_data",
          "data": {
            "text/html": [
              "\n",
              "     <input type=\"file\" id=\"files-7320c054-b015-4040-82c3-68e1860342e2\" name=\"files[]\" multiple disabled\n",
              "        style=\"border:none\" />\n",
              "     <output id=\"result-7320c054-b015-4040-82c3-68e1860342e2\">\n",
              "      Upload widget is only available when the cell has been executed in the\n",
              "      current browser session. Please rerun this cell to enable.\n",
              "      </output>\n",
              "      <script src=\"/nbextensions/google.colab/files.js\"></script> "
            ],
            "text/plain": [
              "<IPython.core.display.HTML object>"
            ]
          },
          "metadata": {}
        },
        {
          "output_type": "stream",
          "text": [
            "Saving Sept_20_analysis.csv to Sept_20_analysis.csv\n"
          ],
          "name": "stdout"
        }
      ]
    },
    {
      "cell_type": "markdown",
      "metadata": {
        "id": "DyLAZcJuSEL_"
      },
      "source": [
        "* **Visualizar los datos.**  \n",
        "Aquí veremos los primeros 3 datos, los últimos 3 datos y al final, los nombres de las columnas."
      ]
    },
    {
      "cell_type": "code",
      "metadata": {
        "id": "-W8PbsCfSES7",
        "colab": {
          "base_uri": "https://localhost:8080/"
        },
        "outputId": "dea969f7-32b3-4318-e08e-ad2520ebe9a8"
      },
      "source": [
        "#Veamos los primeros 3 datos\n",
        "print(df.head(3), \"\\n\")\n",
        "#Veamos los últimos 3 datos\n",
        "print(df.tail(3),\"\\n\")\n",
        "#Veamos los nombres de las columnas\n",
        "print(\"\\n\", df.columns, \"\\n\")"
      ],
      "execution_count": null,
      "outputs": [
        {
          "output_type": "stream",
          "text": [
            "   GAME  BlackElo  ...  Game_flips Game_flips_ts\n",
            "0    11      1143  ...           8             0\n",
            "1    14      1504  ...           6             0\n",
            "2    29      1933  ...           5             0\n",
            "\n",
            "[3 rows x 40 columns] \n",
            "\n",
            "          GAME  BlackElo  ...  Game_flips Game_flips_ts\n",
            "3739906  65499      1160  ...          13             0\n",
            "3739907  65544      1306  ...           2             0\n",
            "3739908  65549      1480  ...           7             0\n",
            "\n",
            "[3 rows x 40 columns] \n",
            "\n",
            "\n",
            " Index(['GAME', 'BlackElo', 'BlackRatingDiff', 'Date', 'ECO', 'Event',\n",
            "       'Opening', 'Result', 'Site', 'Termination', 'TimeControl', 'UTCTime',\n",
            "       'WhiteElo', 'WhiteRatingDiff', 'Black_elo_category',\n",
            "       'White_elo_category', 'starting_time', 'increment', 'Game_type',\n",
            "       'Total_moves', 'Black_blunders', 'White_blunders', 'Black_mistakes',\n",
            "       'White_mistakes', 'Black_inaccuracies', 'White_inaccuracies',\n",
            "       'Black_inferior_moves', 'White_inferior_moves', 'Black_ts_moves',\n",
            "       'White_ts_moves', 'Black_ts_blunders', 'White_ts_blunders',\n",
            "       'Black_ts_mistakes', 'White_ts_mistake', 'Black_long_moves',\n",
            "       'White_long_moves', 'Black_bad_long_moves', 'White_bad_long_moves',\n",
            "       'Game_flips', 'Game_flips_ts'],\n",
            "      dtype='object') \n",
            "\n"
          ],
          "name": "stdout"
        }
      ]
    },
    {
      "cell_type": "markdown",
      "metadata": {
        "id": "1JYy6bBlSEZD"
      },
      "source": [
        "* **Descrpcion básica de columnas (tipo, elementos, celdas vacias, etc.)**  "
      ]
    },
    {
      "cell_type": "code",
      "metadata": {
        "id": "Q4i3SK77SEfR",
        "colab": {
          "base_uri": "https://localhost:8080/"
        },
        "outputId": "2a29f9a3-4554-4ee5-892d-e6a20743a598"
      },
      "source": [
        "#Veamos las dimensiones de nuestro dataframe\n",
        "print(\"Dimensiones: \", df.ndim)\n",
        "#Veamos el número de filas\n",
        "print(\"Filas: \",df.shape[0])\n",
        "#Veamos el número de columnas\n",
        "print(\"Columnas: \",df.shape[1])\n",
        "#Veamos la cantidad de datos de nuestro dataframe\n",
        "print(\"Datos totales: \", df.size, \"\\n\")\n",
        "#Veamos el tipo de datos por columna\n",
        "print(df.dtypes, \"\\n\")\n",
        "#Vemos si hay datos vacios\n",
        "df.isnull().sum()"
      ],
      "execution_count": null,
      "outputs": [
        {
          "output_type": "stream",
          "text": [
            "Dimensiones:  2\n",
            "Filas:  3739909\n",
            "Columnas:  40\n",
            "Datos totales:  149596360 \n",
            "\n",
            "GAME                      int64\n",
            "BlackElo                  int64\n",
            "BlackRatingDiff         float64\n",
            "Date                     object\n",
            "ECO                      object\n",
            "Event                    object\n",
            "Opening                  object\n",
            "Result                   object\n",
            "Site                     object\n",
            "Termination              object\n",
            "TimeControl              object\n",
            "UTCTime                  object\n",
            "WhiteElo                  int64\n",
            "WhiteRatingDiff         float64\n",
            "Black_elo_category       object\n",
            "White_elo_category       object\n",
            "starting_time           float64\n",
            "increment               float64\n",
            "Game_type                object\n",
            "Total_moves               int64\n",
            "Black_blunders            int64\n",
            "White_blunders            int64\n",
            "Black_mistakes            int64\n",
            "White_mistakes            int64\n",
            "Black_inaccuracies        int64\n",
            "White_inaccuracies        int64\n",
            "Black_inferior_moves      int64\n",
            "White_inferior_moves      int64\n",
            "Black_ts_moves            int64\n",
            "White_ts_moves            int64\n",
            "Black_ts_blunders         int64\n",
            "White_ts_blunders         int64\n",
            "Black_ts_mistakes         int64\n",
            "White_ts_mistake          int64\n",
            "Black_long_moves          int64\n",
            "White_long_moves          int64\n",
            "Black_bad_long_moves      int64\n",
            "White_bad_long_moves      int64\n",
            "Game_flips                int64\n",
            "Game_flips_ts             int64\n",
            "dtype: object \n",
            "\n"
          ],
          "name": "stdout"
        },
        {
          "output_type": "execute_result",
          "data": {
            "text/plain": [
              "GAME                        0\n",
              "BlackElo                    0\n",
              "BlackRatingDiff         13036\n",
              "Date                        0\n",
              "ECO                         0\n",
              "Event                       0\n",
              "Opening                     0\n",
              "Result                      0\n",
              "Site                        0\n",
              "Termination                 0\n",
              "TimeControl                 0\n",
              "UTCTime                     0\n",
              "WhiteElo                    0\n",
              "WhiteRatingDiff         13057\n",
              "Black_elo_category          0\n",
              "White_elo_category          0\n",
              "starting_time           10344\n",
              "increment               10344\n",
              "Game_type                   0\n",
              "Total_moves                 0\n",
              "Black_blunders              0\n",
              "White_blunders              0\n",
              "Black_mistakes              0\n",
              "White_mistakes              0\n",
              "Black_inaccuracies          0\n",
              "White_inaccuracies          0\n",
              "Black_inferior_moves        0\n",
              "White_inferior_moves        0\n",
              "Black_ts_moves              0\n",
              "White_ts_moves              0\n",
              "Black_ts_blunders           0\n",
              "White_ts_blunders           0\n",
              "Black_ts_mistakes           0\n",
              "White_ts_mistake            0\n",
              "Black_long_moves            0\n",
              "White_long_moves            0\n",
              "Black_bad_long_moves        0\n",
              "White_bad_long_moves        0\n",
              "Game_flips                  0\n",
              "Game_flips_ts               0\n",
              "dtype: int64"
            ]
          },
          "metadata": {},
          "execution_count": 4
        }
      ]
    },
    {
      "cell_type": "markdown",
      "metadata": {
        "id": "stYuwLmpSPr6"
      },
      "source": [
        "Vemos que la base de datos es de 2 dimensiones, lo cual era lo esperado. Esta base cuenta con 3739909 filas, las cuales representan los juegos a analisar, y 40 columnas. En total tenemos 149596360 datos. Vemos que tenemos tanto datos enteros, como objetos y unos pocos flotantes. Hablando de los datos nulos, solamente tenemos 4 columnas con datos nulos:\n",
        "* BlackRatingDiff, que es el cambio de \"elo\" del jugador de negras.  \n",
        "* WhiteRatingDiff, que es el cambio de \"elo\" del jugador de blancas.  \n",
        "* starting_time, el tiempo que tienen los jugadores al inicio.  \n",
        "* increment, el incremento del reloj.  \n",
        "\n",
        "Estas columnas serian candidatas a ser eliminadas o no ser tomadas en cuenta.\n"
      ]
    },
    {
      "cell_type": "markdown",
      "metadata": {
        "id": "5NlC4hOUSEkg"
      },
      "source": [
        "* **Cambiar nombres de columnas.**  \n",
        "\n",
        "Como todos son en inglés, cambiaremos los nombres a español, pero solamente de las columnas de interés. Primeramente eliminaremos las columnas que pensamos no aportan tanto valor y después haremos el cambio de nombre."
      ]
    },
    {
      "cell_type": "code",
      "metadata": {
        "id": "zseOfGHKSEpl",
        "colab": {
          "base_uri": "https://localhost:8080/",
          "height": 215
        },
        "outputId": "4943ed95-b721-4cd5-93e6-1fa240f95cec"
      },
      "source": [
        "#Eliminación de columnas\n",
        "df_temp=df.drop({'GAME','Event','BlackRatingDiff','Date','ECO','Site','UTCTime','WhiteRatingDiff','starting_time','increment',\n",
        "                 'Black_inferior_moves', 'White_inferior_moves', 'Black_ts_moves','White_ts_moves','Black_ts_blunders', \n",
        "                 'White_ts_blunders','Black_ts_mistakes', 'White_ts_mistake', 'Black_long_moves','White_long_moves',\n",
        "                 'Black_bad_long_moves', 'White_bad_long_moves','Game_flips_ts'},axis = 1 )\n",
        "#Cambiaremos los nombres de inglés a español\n",
        "df_temp=df_temp.rename(columns = {'Opening':'Apertura','Result':'Resultado','Termination':'Terminacion',\n",
        "                                    'TimeControl':'ControlTiempo','Black_elo_category':'Categoria_Negras',\n",
        "                                    'White_elo_category':'Categoria_Blancas','Game_type':'Tipo_juego',\n",
        "                                    'Total_moves':'Movimientos','Black_blunders':'Negras_Metedura_de_patas',\n",
        "                                    'White_blunders':'Blancas_Metedura_de_patas','Black_mistakes':'Negras_Errores',\n",
        "                                    'White_mistakes':'Blancas_Errores','Black_inaccuracies':'Negras_Imprecision',\n",
        "                                    'White_inaccuracies':'Blancas_Imprecision','Game_flips':'Juego_Vueltas',})\n",
        "df_temp.head(3)"
      ],
      "execution_count": null,
      "outputs": [
        {
          "output_type": "execute_result",
          "data": {
            "text/html": [
              "<div>\n",
              "<style scoped>\n",
              "    .dataframe tbody tr th:only-of-type {\n",
              "        vertical-align: middle;\n",
              "    }\n",
              "\n",
              "    .dataframe tbody tr th {\n",
              "        vertical-align: top;\n",
              "    }\n",
              "\n",
              "    .dataframe thead th {\n",
              "        text-align: right;\n",
              "    }\n",
              "</style>\n",
              "<table border=\"1\" class=\"dataframe\">\n",
              "  <thead>\n",
              "    <tr style=\"text-align: right;\">\n",
              "      <th></th>\n",
              "      <th>BlackElo</th>\n",
              "      <th>Apertura</th>\n",
              "      <th>Resultado</th>\n",
              "      <th>Terminacion</th>\n",
              "      <th>ControlTiempo</th>\n",
              "      <th>WhiteElo</th>\n",
              "      <th>Categoria_Negras</th>\n",
              "      <th>Categoria_Blancas</th>\n",
              "      <th>Tipo_juego</th>\n",
              "      <th>Movimientos</th>\n",
              "      <th>Negras_Metedura_de_patas</th>\n",
              "      <th>Blancas_Metedura_de_patas</th>\n",
              "      <th>Negras_Errores</th>\n",
              "      <th>Blancas_Errores</th>\n",
              "      <th>Negras_Imprecision</th>\n",
              "      <th>Blancas_Imprecision</th>\n",
              "      <th>Juego_Vueltas</th>\n",
              "    </tr>\n",
              "  </thead>\n",
              "  <tbody>\n",
              "    <tr>\n",
              "      <th>0</th>\n",
              "      <td>1143</td>\n",
              "      <td>Bird Opening</td>\n",
              "      <td>0-1</td>\n",
              "      <td>Time forfeit</td>\n",
              "      <td>300+0</td>\n",
              "      <td>1180</td>\n",
              "      <td>Low rating</td>\n",
              "      <td>Low rating</td>\n",
              "      <td>Blitz</td>\n",
              "      <td>66</td>\n",
              "      <td>4</td>\n",
              "      <td>2</td>\n",
              "      <td>0</td>\n",
              "      <td>3</td>\n",
              "      <td>3</td>\n",
              "      <td>1</td>\n",
              "      <td>8</td>\n",
              "    </tr>\n",
              "    <tr>\n",
              "      <th>1</th>\n",
              "      <td>1504</td>\n",
              "      <td>Réti Opening</td>\n",
              "      <td>0-1</td>\n",
              "      <td>Normal</td>\n",
              "      <td>300+0</td>\n",
              "      <td>1381</td>\n",
              "      <td>Low rating</td>\n",
              "      <td>Low rating</td>\n",
              "      <td>Blitz</td>\n",
              "      <td>64</td>\n",
              "      <td>2</td>\n",
              "      <td>1</td>\n",
              "      <td>1</td>\n",
              "      <td>1</td>\n",
              "      <td>7</td>\n",
              "      <td>5</td>\n",
              "      <td>6</td>\n",
              "    </tr>\n",
              "    <tr>\n",
              "      <th>2</th>\n",
              "      <td>1933</td>\n",
              "      <td>Philidor Defense</td>\n",
              "      <td>0-1</td>\n",
              "      <td>Time forfeit</td>\n",
              "      <td>300+2</td>\n",
              "      <td>1485</td>\n",
              "      <td>High rating</td>\n",
              "      <td>Low rating</td>\n",
              "      <td>Blitz</td>\n",
              "      <td>70</td>\n",
              "      <td>0</td>\n",
              "      <td>1</td>\n",
              "      <td>1</td>\n",
              "      <td>2</td>\n",
              "      <td>8</td>\n",
              "      <td>8</td>\n",
              "      <td>5</td>\n",
              "    </tr>\n",
              "  </tbody>\n",
              "</table>\n",
              "</div>"
            ],
            "text/plain": [
              "   BlackElo          Apertura  ... Blancas_Imprecision Juego_Vueltas\n",
              "0      1143      Bird Opening  ...                   1             8\n",
              "1      1504      Réti Opening  ...                   5             6\n",
              "2      1933  Philidor Defense  ...                   8             5\n",
              "\n",
              "[3 rows x 17 columns]"
            ]
          },
          "metadata": {},
          "execution_count": 41
        }
      ]
    },
    {
      "cell_type": "code",
      "metadata": {
        "colab": {
          "base_uri": "https://localhost:8080/"
        },
        "id": "xUc7oOVWxNzl",
        "outputId": "99a7c7c4-cf25-4fd0-bc12-0eadee01c38d"
      },
      "source": [
        "df_temp.columns"
      ],
      "execution_count": null,
      "outputs": [
        {
          "output_type": "execute_result",
          "data": {
            "text/plain": [
              "Index(['BlackElo', 'Apertura', 'Resultado', 'Terminacion', 'ControlTiempo',\n",
              "       'WhiteElo', 'Categoria_Negras', 'Categoria_Blancas', 'Tipo_juego',\n",
              "       'Movimientos', 'Negras_Metedura_de_patas', 'Blancas_Metedura_de_patas',\n",
              "       'Negras_Errores', 'Blancas_Errores', 'Negras_Imprecision',\n",
              "       'Blancas_Imprecision', 'Juego_Vueltas'],\n",
              "      dtype='object')"
            ]
          },
          "metadata": {},
          "execution_count": 36
        }
      ]
    },
    {
      "cell_type": "markdown",
      "metadata": {
        "id": "jA7b_FVrSEuD"
      },
      "source": [
        "* **Clasificación de los datos**  \n",
        "\n",
        "Veremos los valores únicos de las categorias, y con estos, crear la clasificación por tipo de jugador dependiendo de la categoría que salga. Como nos enfocamos en la s aperturas, usaremos la categoría de las blancas para esta clasificación."
      ]
    },
    {
      "cell_type": "code",
      "metadata": {
        "id": "AMgFBQn0SEzF",
        "colab": {
          "base_uri": "https://localhost:8080/"
        },
        "outputId": "91122d7f-d950-4060-9894-7094ada286dd"
      },
      "source": [
        "#En este caso, vamos a clasificar los datos por la categoría de los jugadores, entonces veamos si hay valores únicos:\n",
        "Categorias=df_temp.Categoria_Blancas.unique()\n",
        "print(Categorias, \"\\n\")\n",
        "#Ahora hagamos un df por categoría\n",
        "Low_rating = df_temp[df_temp['Categoria_Blancas']==Categorias[0]]\n",
        "High_rating = df_temp[df_temp['Categoria_Blancas']==Categorias[1]]\n",
        "GM_rating = df_temp[df_temp['Categoria_Blancas']==Categorias[2]]\n",
        "#Comprobemos si se realizaron los cambios:\n",
        "print(Low_rating.head(3), \"\\n\")\n",
        "print(High_rating.head(3), \"\\n\")\n",
        "print(GM_rating.head(3), \"\\n\")"
      ],
      "execution_count": null,
      "outputs": [
        {
          "output_type": "stream",
          "text": [
            "['Low rating' 'High rating' 'GM rating'] \n",
            "\n",
            "   BlackElo          Apertura  ... Blancas_Imprecision Juego_Vueltas\n",
            "0      1143      Bird Opening  ...                   1             8\n",
            "1      1504      Réti Opening  ...                   5             6\n",
            "2      1933  Philidor Defense  ...                   8             5\n",
            "\n",
            "[3 rows x 17 columns] \n",
            "\n",
            "   BlackElo  ... Juego_Vueltas\n",
            "3      1710  ...             8\n",
            "4      1598  ...             2\n",
            "5      2207  ...             6\n",
            "\n",
            "[3 rows x 17 columns] \n",
            "\n",
            "     BlackElo  ... Juego_Vueltas\n",
            "48       2300  ...             6\n",
            "112      2362  ...             3\n",
            "360      2361  ...             3\n",
            "\n",
            "[3 rows x 17 columns] \n",
            "\n"
          ],
          "name": "stdout"
        }
      ]
    },
    {
      "cell_type": "markdown",
      "metadata": {
        "id": "eA6x_I73Sel7"
      },
      "source": [
        "* **Guardar otros archivos con agrupaciones.**  "
      ]
    },
    {
      "cell_type": "code",
      "metadata": {
        "id": "TuiZrMNZSesQ"
      },
      "source": [
        "#Crearemos 3 archivos distintos por la agrupación que hagamos\n",
        "Low_rating.to_csv(\"Low_rating.csv\", index=False)\n",
        "High_rating.to_csv(\"High_rating.csv\", index=False)\n",
        "GM_rating.to_csv(\"GM_rating.csv\", index=False)"
      ],
      "execution_count": null,
      "outputs": []
    },
    {
      "cell_type": "markdown",
      "metadata": {
        "id": "KPa_Zo20uWQm"
      },
      "source": [
        "**BASE DE DATOS SECUNDARIA**  \n",
        "**1) Título de la base de datos**  \n",
        "En nombre oficial de la base de datos es \"Students Performance in Exams\", la cual se puede encontrar por el siguiente enlace: https://www.kaggle.com/spscientist/students-performance-in-exams"
      ]
    },
    {
      "cell_type": "markdown",
      "metadata": {
        "id": "VhtnA_IxuWTP"
      },
      "source": [
        "**2) Introducción general**  \n",
        "La escuela, como sabemos, es una etapa primordial en el crecimiento de una persona, pero a su ves, tiene momentos de angustia. Uno de esos momentos son los exámenes, ya que el aplitar todo lo aprendido en ejercicios/preguntas con ñímite de tiempo, puede generar estres en los estudiantes y fallar. Por ello, siempre el estudio, los exámenes de preparación e incluso la familia juega un papel importante a la hora de presentar estos."
      ]
    },
    {
      "cell_type": "markdown",
      "metadata": {
        "id": "8FkZmmeouWXy"
      },
      "source": [
        "**3) Descripción de los datos**  \n",
        "Los datos muerstran, a grandes rasgos, los resultados de 3 exámenes realizados a diferentes grupos (A, B, C, D). Estos se encuentran en una tabla de 1000 filas y 8 columnas, las cuales son las siguientes:\n",
        "* gender, el sexo del estudiante.\n",
        "* race/ethnicity, el grupo al que pertenece.\n",
        "* parental level of education, grado de educación de los padres.\n",
        "* lunch, tipo de recreo.\n",
        "* test preparation course, si timó o no el examen de preparación.\n",
        "* math score, nota del examen de matemáticas.\n",
        "* reading score, nota del examen de lectura.\n",
        "* writing score, nota del examen de escritura."
      ]
    },
    {
      "cell_type": "markdown",
      "metadata": {
        "id": "O_YD6A1puWar"
      },
      "source": [
        "**4) Justificación del uso de datos.**  \n",
        "Creemos que es una buena base de datos por el resumen bien hecho que tiene la misma. Creemos que, si se usa esta base de datos, podremos obtener resultados significativos. Además que es facil de manipular y visualizar los datos por la forma en como está construida."
      ]
    },
    {
      "cell_type": "markdown",
      "metadata": {
        "id": "bysSqczouWdX"
      },
      "source": [
        "**5) Objetivo final.**  \n",
        "El objetivo final es encontrar si existe relación alguna el tomar el examen de preparacion y nivel educativo de los padres con respecto a las calificaciones obtenias en el examnes. Con esto, se podrian crear estrategias en las escuelas que ayuden a preparar a sus estudiantes de una manera más interesante."
      ]
    },
    {
      "cell_type": "markdown",
      "metadata": {
        "id": "Sqp-50-5uWff"
      },
      "source": [
        "**6) Mencionar preguntas de interés.**  \n",
        "Hay varias cosas interesantes que podemos indagar sobre esta base, como lo pueden ser:  \n",
        "* ¿Los hijos con padres \"estudiados\" no necesitan de exámenes de preparación para sacar buenas calificaciones?\n",
        "* ¿El venir de padres sin tantos \"estudios\" condena al estudiante a esforzarse más?\n",
        "* ¿Realmente son efectivos los cursos de preparación?"
      ]
    },
    {
      "cell_type": "markdown",
      "metadata": {
        "id": "3Ko7LaaWug5u"
      },
      "source": [
        "**7) Parte de programación.**  \n",
        "* **Importar librerias y base de datos.**  "
      ]
    },
    {
      "cell_type": "code",
      "metadata": {
        "colab": {
          "resources": {
            "http://localhost:8080/nbextensions/google.colab/files.js": {
              "data": "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",
              "ok": true,
              "headers": [
                [
                  "content-type",
                  "application/javascript"
                ]
              ],
              "status": 200,
              "status_text": "OK"
            }
          },
          "base_uri": "https://localhost:8080/",
          "height": 74
        },
        "id": "_S4SX8u3uihG",
        "outputId": "a57113db-8141-4b3b-d467-05018f9f2525"
      },
      "source": [
        "#importando las librerias\n",
        "import pandas as pd\n",
        "import numpy as np\n",
        "#Importar la base de datos al google colab\n",
        "from google.colab import files\n",
        "files.upload()\n",
        "#Nuestros datos a trabajar son\n",
        "df2 = pd.read_csv(\"StudentsPerformance.csv\")"
      ],
      "execution_count": null,
      "outputs": [
        {
          "output_type": "display_data",
          "data": {
            "text/html": [
              "\n",
              "     <input type=\"file\" id=\"files-77df5b38-6e9d-4aea-a196-5c2c203813dc\" name=\"files[]\" multiple disabled\n",
              "        style=\"border:none\" />\n",
              "     <output id=\"result-77df5b38-6e9d-4aea-a196-5c2c203813dc\">\n",
              "      Upload widget is only available when the cell has been executed in the\n",
              "      current browser session. Please rerun this cell to enable.\n",
              "      </output>\n",
              "      <script src=\"/nbextensions/google.colab/files.js\"></script> "
            ],
            "text/plain": [
              "<IPython.core.display.HTML object>"
            ]
          },
          "metadata": {}
        },
        {
          "output_type": "stream",
          "text": [
            "Saving StudentsPerformance.csv to StudentsPerformance.csv\n"
          ],
          "name": "stdout"
        }
      ]
    },
    {
      "cell_type": "markdown",
      "metadata": {
        "id": "0YNd8VnMvI3_"
      },
      "source": [
        "* **Visualizar los datos.**  \n",
        "Aquí veremos los primeros 3 datos, los últimos 3 datos y al final, los nombres de las columnas"
      ]
    },
    {
      "cell_type": "code",
      "metadata": {
        "colab": {
          "base_uri": "https://localhost:8080/"
        },
        "id": "hhXv-nayvI_g",
        "outputId": "817d6c4f-49c3-4569-c614-7f7d54b4065e"
      },
      "source": [
        "#Veamos los primeros 3 datos\n",
        "print(df2.head(3), \"\\n\")\n",
        "#Veamos los últimos 3 datos\n",
        "print(df2.tail(3),\"\\n\")\n",
        "#Veamos los nombres de las columnas\n",
        "print(\"\\n\", df2.columns, \"\\n\")"
      ],
      "execution_count": null,
      "outputs": [
        {
          "output_type": "stream",
          "text": [
            "   gender race/ethnicity  ... reading score writing score\n",
            "0  female        group B  ...            72            74\n",
            "1  female        group C  ...            90            88\n",
            "2  female        group B  ...            95            93\n",
            "\n",
            "[3 rows x 8 columns] \n",
            "\n",
            "     gender race/ethnicity  ... reading score writing score\n",
            "997  female        group C  ...            71            65\n",
            "998  female        group D  ...            78            77\n",
            "999  female        group D  ...            86            86\n",
            "\n",
            "[3 rows x 8 columns] \n",
            "\n",
            "\n",
            " Index(['gender', 'race/ethnicity', 'parental level of education', 'lunch',\n",
            "       'test preparation course', 'math score', 'reading score',\n",
            "       'writing score'],\n",
            "      dtype='object') \n",
            "\n"
          ],
          "name": "stdout"
        }
      ]
    },
    {
      "cell_type": "markdown",
      "metadata": {
        "id": "QMTtrvqpvJGT"
      },
      "source": [
        "* **Descrpcion básica de columnas (tipo, elementos, celdas vacias, etc.)**"
      ]
    },
    {
      "cell_type": "code",
      "metadata": {
        "colab": {
          "base_uri": "https://localhost:8080/"
        },
        "id": "5-l_cC4tvJMM",
        "outputId": "4c0655f0-1db9-445f-b4df-35cdc593c7dd"
      },
      "source": [
        "#Veamos las dimensiones de nuestro dataframe\n",
        "print(\"Dimensiones: \", df2.ndim)\n",
        "#Veamos el número de filas\n",
        "print(\"Filas: \",df2.shape[0])\n",
        "#Veamos el número de columnas\n",
        "print(\"Columnas: \",df2.shape[1])\n",
        "#Veamos la cantidad de datos de nuestro dataframe\n",
        "print(\"Datos totales: \", df2.size, \"\\n\")\n",
        "#Veamos el tipo de datos por columna\n",
        "print(df2.dtypes, \"\\n\")\n",
        "#Vemos si hay datos vacios\n",
        "df2.isnull().sum()"
      ],
      "execution_count": null,
      "outputs": [
        {
          "output_type": "stream",
          "text": [
            "Dimensiones:  2\n",
            "Filas:  1000\n",
            "Columnas:  8\n",
            "Datos totales:  8000 \n",
            "\n",
            "gender                         object\n",
            "race/ethnicity                 object\n",
            "parental level of education    object\n",
            "lunch                          object\n",
            "test preparation course        object\n",
            "math score                      int64\n",
            "reading score                   int64\n",
            "writing score                   int64\n",
            "dtype: object \n",
            "\n"
          ],
          "name": "stdout"
        },
        {
          "output_type": "execute_result",
          "data": {
            "text/plain": [
              "gender                         0\n",
              "race/ethnicity                 0\n",
              "parental level of education    0\n",
              "lunch                          0\n",
              "test preparation course        0\n",
              "math score                     0\n",
              "reading score                  0\n",
              "writing score                  0\n",
              "dtype: int64"
            ]
          },
          "metadata": {},
          "execution_count": 6
        }
      ]
    },
    {
      "cell_type": "markdown",
      "metadata": {
        "id": "5X5Ww61dvJSB"
      },
      "source": [
        "Vemos que la base de datos es de 2 dimensiones, lo cual era lo esperado. Esta base cuenta con 1000 filas, las cuales son información es 1 estudiante por fila, y 8 columnas. En total tenemos 8000 datos. Vemos que solamente hay datos enteros como objetos, que en este caso son cadenas de caracteres. Hablando de los datos nulos, no hay ninguno en esta base de datos, lo cual es buena señal."
      ]
    },
    {
      "cell_type": "markdown",
      "metadata": {
        "id": "fsPzN-hxxpLK"
      },
      "source": [
        "* **Cambiar nombres de columnas.**  \n",
        "\n",
        "Como todos son en inglés, cambiaremos los nombres a español, pero solamente de las columnas de interés. Primeramente eliminaremos las columnas que pensamos no aportan tanto valor y después haremos el cambio de nombre."
      ]
    },
    {
      "cell_type": "code",
      "metadata": {
        "colab": {
          "base_uri": "https://localhost:8080/",
          "height": 143
        },
        "id": "W1BjsF0yyprl",
        "outputId": "46d59322-3037-4ad4-848d-622f2984e442"
      },
      "source": [
        "#Eliminación de columnas\n",
        "df2_temp=df2.drop('race/ethnicity',axis = 1 )\n",
        "#Cambiaremos los nombres de inglés a español\n",
        "df2_temp=df2_temp.rename(columns = {'gender':'Sexo','parental level of education':'Nivel_educativo_padres',\n",
        "                                    'lunch':'Recreo','test preparation course':'Examen_preparacion',\n",
        "                                    'math score':'Examen_matematicas','reading score':'Examen_lectura',\n",
        "                                    'writing score':'Examen_escritura'})\n",
        "df2_temp.head(3)"
      ],
      "execution_count": null,
      "outputs": [
        {
          "output_type": "execute_result",
          "data": {
            "text/html": [
              "<div>\n",
              "<style scoped>\n",
              "    .dataframe tbody tr th:only-of-type {\n",
              "        vertical-align: middle;\n",
              "    }\n",
              "\n",
              "    .dataframe tbody tr th {\n",
              "        vertical-align: top;\n",
              "    }\n",
              "\n",
              "    .dataframe thead th {\n",
              "        text-align: right;\n",
              "    }\n",
              "</style>\n",
              "<table border=\"1\" class=\"dataframe\">\n",
              "  <thead>\n",
              "    <tr style=\"text-align: right;\">\n",
              "      <th></th>\n",
              "      <th>Sexo</th>\n",
              "      <th>Nivel_educativo_padres</th>\n",
              "      <th>Recreo</th>\n",
              "      <th>Examen_preparacion</th>\n",
              "      <th>Examen_matematicas</th>\n",
              "      <th>Examen_lectura</th>\n",
              "      <th>Examen_escritura</th>\n",
              "    </tr>\n",
              "  </thead>\n",
              "  <tbody>\n",
              "    <tr>\n",
              "      <th>0</th>\n",
              "      <td>female</td>\n",
              "      <td>bachelor's degree</td>\n",
              "      <td>standard</td>\n",
              "      <td>none</td>\n",
              "      <td>72</td>\n",
              "      <td>72</td>\n",
              "      <td>74</td>\n",
              "    </tr>\n",
              "    <tr>\n",
              "      <th>1</th>\n",
              "      <td>female</td>\n",
              "      <td>some college</td>\n",
              "      <td>standard</td>\n",
              "      <td>completed</td>\n",
              "      <td>69</td>\n",
              "      <td>90</td>\n",
              "      <td>88</td>\n",
              "    </tr>\n",
              "    <tr>\n",
              "      <th>2</th>\n",
              "      <td>female</td>\n",
              "      <td>master's degree</td>\n",
              "      <td>standard</td>\n",
              "      <td>none</td>\n",
              "      <td>90</td>\n",
              "      <td>95</td>\n",
              "      <td>93</td>\n",
              "    </tr>\n",
              "  </tbody>\n",
              "</table>\n",
              "</div>"
            ],
            "text/plain": [
              "     Sexo Nivel_educativo_padres  ... Examen_lectura Examen_escritura\n",
              "0  female      bachelor's degree  ...             72               74\n",
              "1  female           some college  ...             90               88\n",
              "2  female        master's degree  ...             95               93\n",
              "\n",
              "[3 rows x 7 columns]"
            ]
          },
          "metadata": {},
          "execution_count": 10
        }
      ]
    },
    {
      "cell_type": "code",
      "metadata": {
        "colab": {
          "base_uri": "https://localhost:8080/"
        },
        "id": "XF1hYUvrvJYc",
        "outputId": "3cfafb8b-f0d6-4570-a214-3a128089feb8"
      },
      "source": [
        "df2_temp.columns"
      ],
      "execution_count": null,
      "outputs": [
        {
          "output_type": "execute_result",
          "data": {
            "text/plain": [
              "Index(['Sexo', 'Nivel_educativo_padres', 'Recreo', 'Examen_preparacion',\n",
              "       'Examen_matematicas', 'Examen_lectura', 'Examen_escritura'],\n",
              "      dtype='object')"
            ]
          },
          "metadata": {},
          "execution_count": 12
        }
      ]
    },
    {
      "cell_type": "markdown",
      "metadata": {
        "id": "yNZP1oYEyLGA"
      },
      "source": [
        "* **Clasificación de los datos**  \n",
        "\n",
        "Haremos una pequeña clasificación por tipo de nivel educativo de los padres."
      ]
    },
    {
      "cell_type": "code",
      "metadata": {
        "colab": {
          "base_uri": "https://localhost:8080/"
        },
        "id": "UHPiyCXDyO28",
        "outputId": "5f2af33f-6f90-476f-db41-5fdd31d41b76"
      },
      "source": [
        "#En este caso, vamos a clasificar los datos por nivel educativo de los padres, entonces veamos si hay valores únicos:\n",
        "N_Padres=df2_temp.Nivel_educativo_padres.unique()\n",
        "print(N_Padres, \"\\n\")\n",
        "#Ahora hagamos un df por categoría\n",
        "bachelors_degree = df2_temp[df2_temp['Nivel_educativo_padres']==N_Padres[0]]\n",
        "some_college = df2_temp[df2_temp['Nivel_educativo_padres']==N_Padres[1]]\n",
        "masters_degree = df2_temp[df2_temp['Nivel_educativo_padres']==N_Padres[2]]\n",
        "associates_degree = df2_temp[df2_temp['Nivel_educativo_padres']==N_Padres[3]]\n",
        "high_school = df2_temp[df2_temp['Nivel_educativo_padres']==N_Padres[4]]\n",
        "some_high_school = df2_temp[df2_temp['Nivel_educativo_padres']==N_Padres[5]]\n",
        "#Comprobemos si se realizaron los cambios:\n",
        "print(bachelors_degree.head(3), \"\\n\")\n",
        "print(some_college.head(3), \"\\n\")\n",
        "print(masters_degree.head(3), \"\\n\")\n",
        "print(associates_degree.head(3), \"\\n\")\n",
        "print(high_school.head(3), \"\\n\")\n",
        "print(some_high_school.head(3), \"\\n\")"
      ],
      "execution_count": null,
      "outputs": [
        {
          "output_type": "stream",
          "text": [
            "[\"bachelor's degree\" 'some college' \"master's degree\" \"associate's degree\"\n",
            " 'high school' 'some high school'] \n",
            "\n",
            "      Sexo Nivel_educativo_padres  ... Examen_lectura Examen_escritura\n",
            "0   female      bachelor's degree  ...             72               74\n",
            "24    male      bachelor's degree  ...             71               80\n",
            "27  female      bachelor's degree  ...             69               75\n",
            "\n",
            "[3 rows x 7 columns] \n",
            "\n",
            "     Sexo Nivel_educativo_padres  ... Examen_lectura Examen_escritura\n",
            "1  female           some college  ...             90               88\n",
            "4    male           some college  ...             78               75\n",
            "6  female           some college  ...             95               92\n",
            "\n",
            "[3 rows x 7 columns] \n",
            "\n",
            "      Sexo Nivel_educativo_padres  ... Examen_lectura Examen_escritura\n",
            "2   female        master's degree  ...             95               93\n",
            "14  female        master's degree  ...             53               58\n",
            "18    male        master's degree  ...             42               46\n",
            "\n",
            "[3 rows x 7 columns] \n",
            "\n",
            "      Sexo Nivel_educativo_padres  ... Examen_lectura Examen_escritura\n",
            "3     male     associate's degree  ...             57               44\n",
            "5   female     associate's degree  ...             83               78\n",
            "10    male     associate's degree  ...             54               52\n",
            "\n",
            "[3 rows x 7 columns] \n",
            "\n",
            "      Sexo Nivel_educativo_padres  ... Examen_lectura Examen_escritura\n",
            "8     male            high school  ...             64               67\n",
            "9   female            high school  ...             60               50\n",
            "12  female            high school  ...             81               73\n",
            "\n",
            "[3 rows x 7 columns] \n",
            "\n",
            "      Sexo Nivel_educativo_padres  ... Examen_lectura Examen_escritura\n",
            "15  female       some high school  ...             75               78\n",
            "17  female       some high school  ...             32               28\n",
            "23  female       some high school  ...             73               73\n",
            "\n",
            "[3 rows x 7 columns] \n",
            "\n"
          ],
          "name": "stdout"
        }
      ]
    },
    {
      "cell_type": "markdown",
      "metadata": {
        "id": "8ZghLt-7yLIt"
      },
      "source": [
        "* **Guardar otros archivos con agrupaciones.**  "
      ]
    },
    {
      "cell_type": "code",
      "metadata": {
        "id": "S7xksTlcyUY4"
      },
      "source": [
        "#Crearemos 6 archivos distintos por la agrupación que hagamos\n",
        "bachelors_degree.to_csv(\"bachelors_degree.csv\", index=False)\n",
        "some_college.to_csv(\"some_college.csv\", index=False)\n",
        "masters_degree.to_csv(\"masters_degree.csv\", index=False)\n",
        "associates_degree.to_csv(\"associates_degree.csv\", index=False)\n",
        "high_school.to_csv(\"high_school.csv\", index=False)\n",
        "some_high_school.to_csv(\"some_high_school.csv\", index=False)"
      ],
      "execution_count": null,
      "outputs": []
    }
  ]
}