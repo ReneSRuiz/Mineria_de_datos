{
  "nbformat": 4,
  "nbformat_minor": 0,
  "metadata": {
    "colab": {
      "name": "Untitled0.ipynb",
      "provenance": [],
      "authorship_tag": "ABX9TyMGUG+wAKS6JH1r1ZYZ+7Aj",
      "include_colab_link": true
    },
    "kernelspec": {
      "name": "python3",
      "display_name": "Python 3"
    },
    "language_info": {
      "name": "python"
    }
  },
  "cells": [
    {
      "cell_type": "markdown",
      "metadata": {
        "id": "view-in-github",
        "colab_type": "text"
      },
      "source": [
        "<a href=\"https://colab.research.google.com/github/ReneSRuiz/Mineria_de_datos/blob/main/Ej_Python_1941452.ipynb\" target=\"_parent\"><img src=\"https://colab.research.google.com/assets/colab-badge.svg\" alt=\"Open In Colab\"/></a>"
      ]
    },
    {
      "cell_type": "markdown",
      "metadata": {
        "id": "O03bx44N4Qr7"
      },
      "source": [
        "Ejercicio 1:"
      ]
    },
    {
      "cell_type": "code",
      "metadata": {
        "id": "ViSyBX5k4Tti",
        "colab": {
          "base_uri": "https://localhost:8080/"
        },
        "outputId": "c3f75f1e-540b-4a77-ce91-ffc4e861edd2"
      },
      "source": [
        "mat=1941452\n",
        "mat=str(mat)\n",
        "nom=\"Rene\"\n",
        "print(\"Nombre y matrícula concatenada: \", mat+nom)"
      ],
      "execution_count": 190,
      "outputs": [
        {
          "output_type": "stream",
          "text": [
            "Nombre y matrícula concatenada:  1941452Rene\n"
          ],
          "name": "stdout"
        }
      ]
    },
    {
      "cell_type": "markdown",
      "metadata": {
        "id": "34s_9_QY5Xl1"
      },
      "source": [
        "Ejercicio 2:"
      ]
    },
    {
      "cell_type": "code",
      "metadata": {
        "id": "qx0bYQ-E5ZDA",
        "colab": {
          "base_uri": "https://localhost:8080/"
        },
        "outputId": "f5141ae4-dde4-4a46-883f-649d7d9002ed"
      },
      "source": [
        "i=1\n",
        "while i==1:\n",
        "  i=int(input(\"¿Desea usar la mini-calculadora de 2 números?\\n1)Si\\n2)No\\n \"))\n",
        "  if i==1:\n",
        "    n1= float(input(\"Introduce un número: \"))\n",
        "    n2= float(input(\"Introduce otro número: \"))\n",
        "    op=int(input(\"¿Qué acción desea realizar?\\n1)Suma\\n2)Resta\\n3)Multiplicación\\n4)División\\n5)Exponentes\\n\"))\n",
        "    if op==1:\n",
        "      print(\"La suma de \",n1,\"+\",n2,\" es: \",n1+n2)\n",
        "    elif op==2:\n",
        "      print(\"La resta de \",n1,\"-\",n2,\" es: \", n1-n2)\n",
        "    elif op==3:\n",
        "      print(\"El producto de \",n1,\" por \",n2,\" es: \", n1*n2)\n",
        "    elif op==4:\n",
        "      print(\"El cociente de \",n1,\"/\",n2,\" es: \", n1/n2)\n",
        "    elif op==5:\n",
        "      print(\"Elevar \",n1,\"^\",n2,\" es: \", n1**n2)"
      ],
      "execution_count": 189,
      "outputs": [
        {
          "output_type": "stream",
          "text": [
            "¿Desea usar la mini-calculadora de 2 números?\n",
            "1)Si\n",
            "2)No\n",
            " 1\n",
            "Introduce un número: 23\n",
            "Introduce otro número: 43\n",
            "¿Qué acción desea realizar?\n",
            "1)Suma\n",
            "2)Resta\n",
            "3)Multiplicación\n",
            "4)División\n",
            "5)Exponentes\n",
            "2\n",
            "La resta de  23.0 - 43.0  es:  -20.0\n",
            "¿Desea usar la mini-calculadora de 2 números?\n",
            "1)Si\n",
            "2)No\n",
            " 1\n",
            "Introduce un número: 3\n",
            "Introduce otro número: 2\n",
            "¿Qué acción desea realizar?\n",
            "1)Suma\n",
            "2)Resta\n",
            "3)Multiplicación\n",
            "4)División\n",
            "5)Exponentes\n",
            "5\n",
            "Elevar  3.0 ^ 2.0  es:  9.0\n",
            "¿Desea usar la mini-calculadora de 2 números?\n",
            "1)Si\n",
            "2)No\n",
            " 2\n"
          ],
          "name": "stdout"
        }
      ]
    },
    {
      "cell_type": "markdown",
      "metadata": {
        "id": "W5_qJYHVCGuz"
      },
      "source": [
        "Ejercicio 3:"
      ]
    },
    {
      "cell_type": "code",
      "metadata": {
        "id": "UoZ6M7JmCInu",
        "colab": {
          "base_uri": "https://localhost:8080/"
        },
        "outputId": "e58f2025-7a01-4b8d-e427-6e70cd98af9a"
      },
      "source": [
        "lista=[]\n",
        "for i in range(1,11):\n",
        "  lista.append(3*i)\n",
        "print(lista)\n",
        "i=0\n",
        "suma=0\n",
        "while i<10:\n",
        "  suma=suma+lista[i]\n",
        "  i=i+1\n",
        "print(suma)"
      ],
      "execution_count": 188,
      "outputs": [
        {
          "output_type": "stream",
          "text": [
            "[3, 6, 9, 12, 15, 18, 21, 24, 27, 30]\n",
            "165\n"
          ],
          "name": "stdout"
        }
      ]
    },
    {
      "cell_type": "markdown",
      "metadata": {
        "id": "xpi2ovAjFj6n"
      },
      "source": [
        "Ejercicio 4:"
      ]
    },
    {
      "cell_type": "code",
      "metadata": {
        "id": "Pag-XpPBF1v9",
        "colab": {
          "base_uri": "https://localhost:8080/"
        },
        "outputId": "dfd7e7d9-1034-4d77-ea73-18793f6eade7"
      },
      "source": [
        "#Primer punto, saber si un número es par o impar\n",
        "n=int(input(\"Ingrese un número entero: \"))\n",
        "if n%2==0:\n",
        "  print(n,\" es un número par\")\n",
        "else:\n",
        "  print(n,\" es un número impar\")"
      ],
      "execution_count": 184,
      "outputs": [
        {
          "output_type": "stream",
          "text": [
            "Ingrese un número entero: 15\n",
            "15  es un número impar\n"
          ],
          "name": "stdout"
        }
      ]
    },
    {
      "cell_type": "code",
      "metadata": {
        "id": "mDmN8qoUGZOO",
        "colab": {
          "base_uri": "https://localhost:8080/"
        },
        "outputId": "f0a4064d-401f-4a31-ec12-8836ba8c8ee6"
      },
      "source": [
        "#Segundo punto, saber si un número es primo\n",
        "n=int(input(\"Ingrese un número entero: \"))\n",
        "control=0\n",
        "for i in range(2, n+1):\n",
        "  if n%i == 0:\n",
        "    control=control+1\n",
        "\n",
        "if control==1:\n",
        "  print(\"El número \",n,\" es primo\")\n",
        "else:\n",
        "  print(\"El número \",n,\" no es primo, tiene \", control+1,\" divisores\")"
      ],
      "execution_count": 187,
      "outputs": [
        {
          "output_type": "stream",
          "text": [
            "Ingrese un número entero: 73\n",
            "El número  73  es primo\n"
          ],
          "name": "stdout"
        }
      ]
    },
    {
      "cell_type": "markdown",
      "metadata": {
        "id": "uZB-nmhbJ8pI"
      },
      "source": [
        "Ejercicio 5:"
      ]
    },
    {
      "cell_type": "code",
      "metadata": {
        "colab": {
          "base_uri": "https://localhost:8080/"
        },
        "id": "YL1mh0ltMk4f",
        "outputId": "862f192b-0227-4236-92d0-b0a23ac8af79"
      },
      "source": [
        "Control=int(input(\"Desea usar la calculadora:\\n1)Si\\n2)No\\n\"))\n",
        "if Control==1:\n",
        "  Res=float(input(\"Ingrese el primer número: \"))\n",
        "while Control==1:\n",
        "  op=int(input(\"Que desea realizarle al número:\\n1)Sumar\\n2)Restar\\n3)Multiplicar\\n4)Dividir\\n5)Exponencial(Elevar)\\n\"))\n",
        "  if op==1:\n",
        "    Apoyo=float(input(\"¿Que número desea sumarle? \"))\n",
        "    Res=Res+Apoyo\n",
        "  elif op==2:\n",
        "    Apoyo=float(input(\"¿Que número desea restarle? \"))\n",
        "    Res=Res-Apoyo\n",
        "  elif op==3:\n",
        "    Apoyo=float(input(\"¿Por cuál número desea multiplicar? \"))\n",
        "    Res=Res*Apoyo\n",
        "  elif op==4:\n",
        "    Apoyo=float(input(\"¿Por cuál número desea dividir? \"))\n",
        "    Res=Res/Apoyo\n",
        "  elif op==5:\n",
        "    Apoyo=float(input(\"¿Por cual número desea elevar? \"))\n",
        "    Res=Res**Apoyo\n",
        "  print(\"El resultado fue: \",Res)\n",
        "  Control=int(input(\"Desea hacer algo mas:\\n1)Si\\n2)No\\n\"))\n",
        "print(\"Gracias por usar la calculadora :)\")"
      ],
      "execution_count": 177,
      "outputs": [
        {
          "output_type": "stream",
          "text": [
            "Desea usar la calculadora:\n",
            "1)Si\n",
            "2)No\n",
            "1\n",
            "Ingrese el primer número: 3\n",
            "Que desea realizarle al número:\n",
            "1)Sumar\n",
            "2)Restar\n",
            "3)Multiplicar\n",
            "4)Dividir\n",
            "5)Exponencial(Elevar)\n",
            "2\n",
            "¿Que número desea restarle? 4\n",
            "El resultado fue:  -1.0\n",
            "Desea hacer algo mas:\n",
            "1)Si\n",
            "2)No\n",
            "1\n",
            "Que desea realizarle al número:\n",
            "1)Sumar\n",
            "2)Restar\n",
            "3)Multiplicar\n",
            "4)Dividir\n",
            "5)Exponencial(Elevar)\n",
            "5\n",
            "¿Por cual número desea elevar? 2\n",
            "El resultado fue:  1.0\n",
            "Desea hacer algo mas:\n",
            "1)Si\n",
            "2)No\n",
            "2\n",
            "Gracias por usar la calculadora :)\n"
          ],
          "name": "stdout"
        }
      ]
    },
    {
      "cell_type": "markdown",
      "metadata": {
        "id": "xF0ssOmDSVw8"
      },
      "source": [
        "**Ejercicios con estructura básica de Python:**  \n",
        "**1) Tuplas**"
      ]
    },
    {
      "cell_type": "code",
      "metadata": {
        "colab": {
          "base_uri": "https://localhost:8080/"
        },
        "id": "bMXXeN6bShaD",
        "outputId": "6abc7c60-fe39-4841-bce7-536bcc5310ca"
      },
      "source": [
        "#Crear una variable flotante, integer, boleana y compleja e imprimir el tipo de variable que es.\n",
        "print(\"Punto 1\")\n",
        "flotante=2.3\n",
        "entero=4\n",
        "boleano=True\n",
        "complejo= 2 - 3j\n",
        "print(\"El tipo de dato de \", flotante, \" es: \", type(flotante), \"\\nEl tipo de dato de \", entero, \" es: \", type(entero),\n",
        "      \"\\nEl tipo de dato de \", boleano, \" es: \", type(boleano),\"\\nEl tipo de dato de \", complejo, \" es: \", type(complejo))\n",
        "\n",
        "#Crear una tupla con valores enteros imprimir el primer y ultimo valor.\n",
        "print(\"\\nPunto 2\")\n",
        "tupla=(2,4,7,43,5,6,4,3,2,43,6,3)\n",
        "print(\"El primer elemento es \", tupla[0], \" y el último es \", tupla[-1])\n",
        "\n",
        "#Añadir 3 valores de string a la tupla.\n",
        "print(\"\\nPunto 3\")\n",
        "tupla=tupla.__add__((\"Soy\",\"Un\",\"Niño\",))\n",
        "print(tupla)\n",
        "\n",
        "#Verificar si una variable existe dentro de la tupla.\n",
        "print(\"\\nPunto 4\")\n",
        "busca=str(input(\"¿Qué desea buscar? \"))\n",
        "if busca in str(tupla):\n",
        "  print(busca, \" se encuentra en la tupla\")\n",
        "else:\n",
        "  print(busca, \" no se encuentra en la tupla\")"
      ],
      "execution_count": 176,
      "outputs": [
        {
          "output_type": "stream",
          "text": [
            "Punto 1\n",
            "El tipo de dato de  2.3  es:  <class 'float'> \n",
            "El tipo de dato de  4  es:  <class 'int'> \n",
            "El tipo de dato de  True  es:  <class 'bool'> \n",
            "El tipo de dato de  (2-3j)  es:  <class 'complex'>\n",
            "\n",
            "Punto 2\n",
            "El primer elemento es  2  y el último es  3\n",
            "\n",
            "Punto 3\n",
            "(2, 4, 7, 43, 5, 6, 4, 3, 2, 43, 6, 3, 'Soy', 'Un', 'Niño')\n",
            "\n",
            "Punto 4\n",
            "¿Qué desea buscar? 43\n",
            "43  se encuentra en la tupla\n"
          ],
          "name": "stdout"
        }
      ]
    },
    {
      "cell_type": "markdown",
      "metadata": {
        "id": "BiT7Ifbua2Gk"
      },
      "source": [
        "**2) Listas**"
      ]
    },
    {
      "cell_type": "code",
      "metadata": {
        "colab": {
          "base_uri": "https://localhost:8080/"
        },
        "id": "n7tIZ7uHbAuJ",
        "outputId": "60771b17-3216-4b28-9b43-45d380e59b31"
      },
      "source": [
        "#Crear una lista con 40 elementos aleatorios enteros.\n",
        "print(\"Punto 1\")\n",
        "import random\n",
        "l=[]\n",
        "for i in range(0,40):\n",
        "  l.append(random.randint(0,100))\n",
        "print(l)\n",
        "#Con una funcion (def) crear dos listas nuevas a partir de la lista creada por numeros aleatorios, en la cual en una esten los \n",
        "#elementos pares, y en la otra los elementos impares.\n",
        "print(\"\\nPunto 2\")\n",
        "def lista_pares(lista):\n",
        "  salida=[]\n",
        "  for i in range(len(lista)):\n",
        "    if lista[i]%2==0:\n",
        "      salida.append(lista[i])\n",
        "  return salida\n",
        "\n",
        "def lista_impares(lista):\n",
        "  salida=[]\n",
        "  for i in range(len(lista)):\n",
        "    if lista[i]%2!=0:\n",
        "      salida.append(lista[i])\n",
        "  return salida\n",
        "l_pares=lista_pares(l)\n",
        "l_impares=lista_impares(l)\n",
        "print(l_pares)\n",
        "print(l_impares)\n",
        "\n",
        "#Crear dos variables con la longitud de ambas listas nuevas e imprimir las variables.\n",
        "print(\"\\nPunto 3\")\n",
        "long_pares=len(l_pares)\n",
        "long_impares=len(l_impares)\n",
        "print(\"La lista de los pares tiene \", long_pares,\" elementos, y la de los impares tiene \", long_impares,\" elementos\")\n",
        "\n",
        "#Ordenar los elementos de la lista par de mayor a menor, y los de la lista impar de menor a mayor.\n",
        "print(\"\\nPunto 4\")\n",
        "l_pares.sort(reverse=True)\n",
        "l_impares.sort()\n",
        "print(l_pares)\n",
        "print(l_impares)\n",
        "\n",
        "\n",
        "#Utilizar al menos cuatro de las funciones de listas en python en la lista original de 40 elementos.\n",
        "print(\"\\nPunto 5\")\n",
        "l.append(50)\n",
        "l.insert(0,0)\n",
        "l.extend(l_pares[0:2])\n",
        "l.remove(l_pares[0])\n",
        "print(l)\n",
        "\n"
      ],
      "execution_count": 175,
      "outputs": [
        {
          "output_type": "stream",
          "text": [
            "Punto 1\n",
            "[65, 64, 76, 38, 22, 23, 32, 93, 94, 60, 27, 57, 12, 12, 2, 47, 8, 10, 57, 39, 55, 61, 12, 100, 21, 71, 32, 39, 52, 13, 68, 67, 92, 3, 40, 37, 33, 100, 55, 55]\n",
            "\n",
            "Punto 2\n",
            "[64, 76, 38, 22, 32, 94, 60, 12, 12, 2, 8, 10, 12, 100, 32, 52, 68, 92, 40, 100]\n",
            "[65, 23, 93, 27, 57, 47, 57, 39, 55, 61, 21, 71, 39, 13, 67, 3, 37, 33, 55, 55]\n",
            "\n",
            "Punto 3\n",
            "La lista de los pares tiene  20  elementos, y la de los impares tiene  20  elementos\n",
            "\n",
            "Punto 4\n",
            "[100, 100, 94, 92, 76, 68, 64, 60, 52, 40, 38, 32, 32, 22, 12, 12, 12, 10, 8, 2]\n",
            "[3, 13, 21, 23, 27, 33, 37, 39, 39, 47, 55, 55, 55, 57, 57, 61, 65, 67, 71, 93]\n",
            "\n",
            "Punto 5\n",
            "[0, 65, 64, 76, 38, 22, 23, 32, 93, 94, 60, 27, 57, 12, 12, 2, 47, 8, 10, 57, 39, 55, 61, 12, 21, 71, 32, 39, 52, 13, 68, 67, 92, 3, 40, 37, 33, 100, 55, 55, 50, 100, 100]\n"
          ],
          "name": "stdout"
        }
      ]
    },
    {
      "cell_type": "markdown",
      "metadata": {
        "id": "H9qlTjIfjWbD"
      },
      "source": [
        "**3) Diccionarios**"
      ]
    },
    {
      "cell_type": "code",
      "metadata": {
        "colab": {
          "base_uri": "https://localhost:8080/"
        },
        "id": "YPJ-h8TLjaaM",
        "outputId": "1b91a1dd-9666-4617-b55e-2c26d5b11682"
      },
      "source": [
        "#Crear un diccionario de 6 personas que conozcas con su primer nombre y su edad.\n",
        "print(\"Punto 1\")\n",
        "dic1={\"Rene\":21,\"Hector\":30,\"Damaris\":20,\"Pablo\":26,\"Roberto\":50,\"Arantza\":18}\n",
        "print(dic1)\n",
        "\n",
        "#Crear una lista con los valores de la edad y reacomodar la lista de menor a mayor valor.\n",
        "print(\"\\nPunto 2\")\n",
        "edad=list(dic1.values())\n",
        "edad.sort()\n",
        "print(edad)\n",
        "\n",
        "#Usando el diccionario y un loop, imprimir solo los nombres.\n",
        "print(\"\\nPunto 3\")\n",
        "for i in dic1:\n",
        "  print(i)\n",
        "\n",
        "#Añadir dos personas nuevas a tu diccionario, incluyendo edad.\n",
        "print(\"\\nPunto 4\")\n",
        "dic1[\"Arleht\"]=20\n",
        "dic1[\"Alejandro\"]=22\n",
        "print(dic1)\n",
        "\n"
      ],
      "execution_count": 173,
      "outputs": [
        {
          "output_type": "stream",
          "text": [
            "Punto 1\n",
            "{'Rene': 21, 'Hector': 30, 'Damaris': 20, 'Pablo': 26, 'Roberto': 50, 'Arantza': 18}\n",
            "\n",
            "Punto 2\n",
            "[18, 20, 21, 26, 30, 50]\n",
            "\n",
            "Punto 3\n",
            "Rene\n",
            "Hector\n",
            "Damaris\n",
            "Pablo\n",
            "Roberto\n",
            "Arantza\n",
            "\n",
            "Punto 4\n",
            "{'Rene': 21, 'Hector': 30, 'Damaris': 20, 'Pablo': 26, 'Roberto': 50, 'Arantza': 18, 'Arleht': 20, 'Alejandro': 22}\n"
          ],
          "name": "stdout"
        }
      ]
    },
    {
      "cell_type": "markdown",
      "metadata": {
        "id": "yuUwXBGmmW_-"
      },
      "source": [
        "**4) Sets**"
      ]
    },
    {
      "cell_type": "code",
      "metadata": {
        "colab": {
          "base_uri": "https://localhost:8080/"
        },
        "id": "u6Xlw3KlmZUM",
        "outputId": "a2e6aef0-45b7-4b73-a479-7351793ce74a"
      },
      "source": [
        "#Crea un set con 100 numeros aleatorios enteros del 1 al 25.\n",
        "print(\"\\nPunto 1\")\n",
        "import random\n",
        "num=[]\n",
        "for i in range(0,100):\n",
        "  num.append(random.randint(1,25))\n",
        "set1=set(num)\n",
        "print(set1)\n",
        "\n",
        "\n",
        "#Comprueba la longitud de tu set.\n",
        "print(\"\\nPunto 2\")\n",
        "print(\"La longitud del set es de \",len(set1),\" elementos\")\n",
        "\n",
        "#Crea una lista de 5 numeros aleatorios del 1 al 10 y comprueba si cada valor aparece en el set inicia\n",
        "print(\"\\nPunto 3\")\n",
        "control=0\n",
        "num2=[]\n",
        "for i in range(0,5):\n",
        "  num2.append(random.randint(1,10))\n",
        "  if num2[i] in set1:\n",
        "    control=control+1\n",
        "\n",
        "if control==len(num2):\n",
        "  print(\"Los 5 números generados si se encuentran en el set inicia\\nNúmeros generados: \",num2)\n",
        "else:\n",
        "  print(\"Los 5 números generados no se encuentran en el set inicia\\nNúmeros generados: \",num2)\n"
      ],
      "execution_count": 174,
      "outputs": [
        {
          "output_type": "stream",
          "text": [
            "\n",
            "Punto 1\n",
            "{1, 2, 3, 4, 5, 6, 8, 9, 10, 11, 12, 13, 14, 15, 16, 17, 18, 19, 20, 21, 22, 23, 24, 25}\n",
            "\n",
            "Punto 2\n",
            "La longitud del set es de  24  elementos\n",
            "\n",
            "Punto 3\n",
            "Los 5 números generados si se encuentran en el set inicia\n",
            "Números generados:  [5, 6, 9, 3, 4]\n"
          ],
          "name": "stdout"
        }
      ]
    }
  ]
}