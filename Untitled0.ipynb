{
  "nbformat": 4,
  "nbformat_minor": 0,
  "metadata": {
    "colab": {
      "name": "Untitled0.ipynb",
      "provenance": [],
      "authorship_tag": "ABX9TyOx0y+dDJhwwLMgxfOYTOv/",
      "include_colab_link": true
    },
    "kernelspec": {
      "name": "python3",
      "display_name": "Python 3"
    },
    "language_info": {
      "name": "python"
    }
  },
  "cells": [
    {
      "cell_type": "markdown",
      "metadata": {
        "id": "view-in-github",
        "colab_type": "text"
      },
      "source": [
        "<a href=\"https://colab.research.google.com/github/ReneSRuiz/Mineria_de_datos/blob/main/Untitled0.ipynb\" target=\"_parent\"><img src=\"https://colab.research.google.com/assets/colab-badge.svg\" alt=\"Open In Colab\"/></a>"
      ]
    },
    {
      "cell_type": "markdown",
      "metadata": {
        "id": "O03bx44N4Qr7"
      },
      "source": [
        "Ejercicio 1:"
      ]
    },
    {
      "cell_type": "code",
      "metadata": {
        "colab": {
          "base_uri": "https://localhost:8080/"
        },
        "id": "ViSyBX5k4Tti",
        "outputId": "d7aaba11-e704-41c9-cc43-6b041d5d9ba3"
      },
      "source": [
        "mat=1941452\n",
        "mat=str(mat)\n",
        "nom=\"Rene\"\n",
        "print(\"Nombre y matrícula concatenada: \", mat+nom)"
      ],
      "execution_count": 37,
      "outputs": [
        {
          "output_type": "stream",
          "text": [
            "Nombre y matrícula concatenada:  1941452Rene\n"
          ],
          "name": "stdout"
        }
      ]
    },
    {
      "cell_type": "markdown",
      "metadata": {
        "id": "34s_9_QY5Xl1"
      },
      "source": [
        "Ejercicio 2:"
      ]
    },
    {
      "cell_type": "code",
      "metadata": {
        "colab": {
          "base_uri": "https://localhost:8080/"
        },
        "id": "qx0bYQ-E5ZDA",
        "outputId": "857b40a4-ff59-479a-c874-2784f62f3e60"
      },
      "source": [
        "n1= float(input(\"Introduce un número: \"))\n",
        "n2= float(input(\"Introduce otro número: \"))\n",
        "suma=n1+n2\n",
        "resta=n1-n2\n",
        "multi=n1*n2\n",
        "div=n1/n2\n",
        "exp=n1**n2\n",
        "i=1\n",
        "while i==1:\n",
        "  i=int(input(\"Si desea hacer una operación, ingrese 1, si no, ingrese 2: \"))\n",
        "  if i==1:\n",
        "    op=int(input(\"¿Qué acción desea realizar?\\n1)Suma\\n2)Resta\\n3)Multiplicación\\n4)División\\n5)Exponentes\\n\"))\n",
        "    if op==1:\n",
        "      print(\"La suma de \",n1,\"+\",n2,\" es: \",suma)\n",
        "    elif op==2:\n",
        "      print(\"La resta de \",n1,\"-\",n2,\" es: \", resta)\n",
        "    elif op==3:\n",
        "      print(\"El producto de \",n1,\" por \",n2,\" es: \", multi)\n",
        "    elif op==4:\n",
        "      print(\"El cociente de \",n1,\"/\",n2,\" es: \", div)\n",
        "    elif op==5:\n",
        "      print(\"Elevar \",n1,\"^\",n2,\" es: \", exp)"
      ],
      "execution_count": 36,
      "outputs": [
        {
          "output_type": "stream",
          "text": [
            "Introduce un número: 3\n",
            "Introduce otro número: 4\n",
            "Si desea hacer una operación, ingrese 1, si no, ingrese 2: 1\n",
            "¿Qué acción desea realizar?\n",
            "1)Suma\n",
            "2)Resta\n",
            "3)Multiplicación\n",
            "4)División\n",
            "5)Exponentes\n",
            "1\n",
            "La suma de  3.0 + 4.0  es:  7.0\n",
            "Si desea hacer una operación, ingrese 1, si no, ingrese 2: 1\n",
            "¿Qué acción desea realizar?\n",
            "1)Suma\n",
            "2)Resta\n",
            "3)Multiplicación\n",
            "4)División\n",
            "5)Exponentes\n",
            "2\n",
            "La resta de  3.0 - 4.0  es:  -1.0\n",
            "Si desea hacer una operación, ingrese 1, si no, ingrese 2: 1\n",
            "¿Qué acción desea realizar?\n",
            "1)Suma\n",
            "2)Resta\n",
            "3)Multiplicación\n",
            "4)División\n",
            "5)Exponentes\n",
            "3\n",
            "El producto de  3.0  por  4.0  es:  12.0\n",
            "Si desea hacer una operación, ingrese 1, si no, ingrese 2: 1\n",
            "¿Qué acción desea realizar?\n",
            "1)Suma\n",
            "2)Resta\n",
            "3)Multiplicación\n",
            "4)División\n",
            "5)Exponentes\n",
            "4\n",
            "El cociente de  3.0 / 4.0  es:  0.75\n",
            "Si desea hacer una operación, ingrese 1, si no, ingrese 2: 1\n",
            "¿Qué acción desea realizar?\n",
            "1)Suma\n",
            "2)Resta\n",
            "3)Multiplicación\n",
            "4)División\n",
            "5)Exponentes\n",
            "5\n",
            "Elevar  3.0 ^ 4.0  es:  81.0\n",
            "Si desea hacer una operación, ingrese 1, si no, ingrese 2: 2\n"
          ],
          "name": "stdout"
        }
      ]
    }
  ]
}