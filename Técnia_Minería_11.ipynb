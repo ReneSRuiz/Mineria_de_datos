{
  "nbformat": 4,
  "nbformat_minor": 0,
  "metadata": {
    "colab": {
      "name": "Técnia_Minería_11.ipynb",
      "provenance": [],
      "collapsed_sections": [],
      "authorship_tag": "ABX9TyN3rT8P5yzoFQ09n5ufq0eY",
      "include_colab_link": true
    },
    "kernelspec": {
      "name": "python3",
      "display_name": "Python 3"
    },
    "language_info": {
      "name": "python"
    }
  },
  "cells": [
    {
      "cell_type": "markdown",
      "metadata": {
        "id": "view-in-github",
        "colab_type": "text"
      },
      "source": [
        "<a href=\"https://colab.research.google.com/github/ReneSRuiz/Mineria_de_datos/blob/main/T%C3%A9cnia_Miner%C3%ADa_11.ipynb\" target=\"_parent\"><img src=\"https://colab.research.google.com/assets/colab-badge.svg\" alt=\"Open In Colab\"/></a>"
      ]
    },
    {
      "cell_type": "markdown",
      "metadata": {
        "id": "RqOweh1VzZ7T"
      },
      "source": [
        "**Equipo:** 11  \n",
        "**Grupo:** 001  \n",
        "**Frecuencia:** lunes  \n",
        "**Integrantes:**\n",
        "\n",
        " *   García Alanís Alejandro Uriel 1886968\n",
        " *   Estrada Dávila Jorge Eduardo 1741943\n",
        " *   Paz Reyes Néstor Misael 1559508\n",
        " *   González García Elisa 1858207\n",
        " *   Sobrevilla Ruiz Rene 1941452  "
      ]
    },
    {
      "cell_type": "markdown",
      "metadata": {
        "id": "eD1TKIcPzdhz"
      },
      "source": [
        "Con ayuda de la segunda entrega del PIA (https://github.com/ReneSRuiz/Mineria_de_datos/blob/main/AvancePIA_II_001_11.ipynb), se supo recuperar información valiosa que responde a la mayoría de nuestros objetivos secundarios, además de dar las pautas para nuestro objetivo principal. El equipo decidió solamente manipular la tabla y usar un parámetro para evaluar cada jugada y, con ayuda de gráficas, mostrar los resultados. Sin embargo, nuestro último objetivo secundario consta de encontrar una manera de clasificar a los jugadores dependiendo del tipo del tipo de \"elo\" que se tenga. Como primera opción usaremos una regresión lineal para predecir el \"Elo\" de los jugadores dependiendo de la cantidad de errores que estos cometen. En caso de que no salga como esperamos, utilizaremos un árbol de desición que nos ayude a clasificar a los jugadores (ya sea de \"Low rating\", \"High rating\" o \"GM rating\") dependiendo de los errores. Para esto, usaremos la base de datos modificados que mostramos en el avance del PIA número 2, y los manipularemos para aplicar estas técnicas."
      ]
    },
    {
      "cell_type": "code",
      "metadata": {
        "id": "76Lt0ayI1lLX"
      },
      "source": [
        "#importando las librerias\n",
        "import pandas as pd\n",
        "import numpy as np\n",
        "from sklearn import datasets, linear_model\n",
        "from sklearn.tree import DecisionTreeClassifier\n",
        "from sklearn.datasets import load_breast_cancer, load_iris\n",
        "from sklearn.model_selection import train_test_split\n",
        "from sklearn.tree import export_graphviz\n",
        "import graphviz\n",
        "import matplotlib.pyplot as plt\n",
        "%matplotlib inline"
      ],
      "execution_count": 16,
      "outputs": []
    },
    {
      "cell_type": "code",
      "metadata": {
        "colab": {
          "resources": {
            "http://localhost:8080/nbextensions/google.colab/files.js": {
              "data": "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",
              "ok": true,
              "headers": [
                [
                  "content-type",
                  "application/javascript"
                ]
              ],
              "status": 200,
              "status_text": "OK"
            }
          },
          "base_uri": "https://localhost:8080/",
          "height": 74
        },
        "id": "JbFU-1GQzFHA",
        "outputId": "833d7fad-7222-4833-85cc-5d96c7ac700b"
      },
      "source": [
        "#Carga de los datos\n",
        "from google.colab import files\n",
        "files.upload()\n",
        "df = pd.read_csv(\"Base_Principal_Modificada.csv\")"
      ],
      "execution_count": 2,
      "outputs": [
        {
          "output_type": "display_data",
          "data": {
            "text/html": [
              "\n",
              "     <input type=\"file\" id=\"files-39a6ebb0-569e-4dac-947b-25094aee213a\" name=\"files[]\" multiple disabled\n",
              "        style=\"border:none\" />\n",
              "     <output id=\"result-39a6ebb0-569e-4dac-947b-25094aee213a\">\n",
              "      Upload widget is only available when the cell has been executed in the\n",
              "      current browser session. Please rerun this cell to enable.\n",
              "      </output>\n",
              "      <script src=\"/nbextensions/google.colab/files.js\"></script> "
            ],
            "text/plain": [
              "<IPython.core.display.HTML object>"
            ]
          },
          "metadata": {}
        },
        {
          "output_type": "stream",
          "name": "stdout",
          "text": [
            "Saving Base_Principal_Modificada.csv to Base_Principal_Modificada.csv\n"
          ]
        }
      ]
    },
    {
      "cell_type": "markdown",
      "metadata": {
        "id": "0dDbQnEB9UDS"
      },
      "source": [
        "**Regresión Lineal**  \n",
        "Antes de pasar a la regresión lineal, ajustaremos los datos:"
      ]
    },
    {
      "cell_type": "code",
      "metadata": {
        "colab": {
          "base_uri": "https://localhost:8080/",
          "height": 206
        },
        "id": "BiGkt21M380L",
        "outputId": "1bc6765a-74af-4dca-d373-269c70752772"
      },
      "source": [
        "#Crear columnas de blancas\n",
        "Blancas=df.drop({'Apertura','Categoria_Blancas','Resultado','Terminacion','BlackElo','Tipo_juego','Movimientos','Categoria_Negras','Negras_Metedura_de_patas',\n",
        "                  'Negras_Errores','Negras_Imprecision'}, axis = 1)\n",
        "#Cambiaremos los nombres\n",
        "Blancas=Blancas.rename(columns = {'WhiteElo':'Elo','Blancas_Errores':'Errores','Blancas_Imprecision':'Imprecisiones',\n",
        "                                  'Blancas_Metedura_de_patas':'Meteduras_de_pata'})\n",
        "Blancas\n",
        "#Crear columnas de negras\n",
        "Negras=df.drop({'Apertura','Categoria_Negras','Resultado','Terminacion','Categoria_Blancas','Tipo_juego','Movimientos','WhiteElo','Blancas_Metedura_de_patas',\n",
        "                  'Blancas_Errores','Blancas_Imprecision'}, axis = 1)\n",
        "#Cambiaremos los nombres\n",
        "Negras=Blancas.rename(columns = {'BlackElo':'Elo','Negras_Errores':'Errores','Negras_Imprecision':'Imprecisiones',\n",
        "                                  'Negras_Metedura_de_patas':'Meteduras_de_pata'})\n",
        "df2=Blancas.append(Negras)\n",
        "df2.head(5)"
      ],
      "execution_count": 3,
      "outputs": [
        {
          "output_type": "execute_result",
          "data": {
            "text/html": [
              "<div>\n",
              "<style scoped>\n",
              "    .dataframe tbody tr th:only-of-type {\n",
              "        vertical-align: middle;\n",
              "    }\n",
              "\n",
              "    .dataframe tbody tr th {\n",
              "        vertical-align: top;\n",
              "    }\n",
              "\n",
              "    .dataframe thead th {\n",
              "        text-align: right;\n",
              "    }\n",
              "</style>\n",
              "<table border=\"1\" class=\"dataframe\">\n",
              "  <thead>\n",
              "    <tr style=\"text-align: right;\">\n",
              "      <th></th>\n",
              "      <th>Elo</th>\n",
              "      <th>Meteduras_de_pata</th>\n",
              "      <th>Errores</th>\n",
              "      <th>Imprecisiones</th>\n",
              "    </tr>\n",
              "  </thead>\n",
              "  <tbody>\n",
              "    <tr>\n",
              "      <th>0</th>\n",
              "      <td>1180</td>\n",
              "      <td>2</td>\n",
              "      <td>3</td>\n",
              "      <td>1</td>\n",
              "    </tr>\n",
              "    <tr>\n",
              "      <th>1</th>\n",
              "      <td>1381</td>\n",
              "      <td>1</td>\n",
              "      <td>1</td>\n",
              "      <td>5</td>\n",
              "    </tr>\n",
              "    <tr>\n",
              "      <th>2</th>\n",
              "      <td>1485</td>\n",
              "      <td>1</td>\n",
              "      <td>2</td>\n",
              "      <td>8</td>\n",
              "    </tr>\n",
              "    <tr>\n",
              "      <th>3</th>\n",
              "      <td>2040</td>\n",
              "      <td>2</td>\n",
              "      <td>5</td>\n",
              "      <td>4</td>\n",
              "    </tr>\n",
              "    <tr>\n",
              "      <th>4</th>\n",
              "      <td>2163</td>\n",
              "      <td>0</td>\n",
              "      <td>1</td>\n",
              "      <td>2</td>\n",
              "    </tr>\n",
              "  </tbody>\n",
              "</table>\n",
              "</div>"
            ],
            "text/plain": [
              "    Elo  Meteduras_de_pata  Errores  Imprecisiones\n",
              "0  1180                  2        3              1\n",
              "1  1381                  1        1              5\n",
              "2  1485                  1        2              8\n",
              "3  2040                  2        5              4\n",
              "4  2163                  0        1              2"
            ]
          },
          "metadata": {},
          "execution_count": 3
        }
      ]
    },
    {
      "cell_type": "code",
      "metadata": {
        "colab": {
          "base_uri": "https://localhost:8080/"
        },
        "id": "PTlXE3r8YSZb",
        "outputId": "2857e9a0-858b-40c3-df3a-44aec198fa04"
      },
      "source": [
        "x = df2[['Meteduras_de_pata','Errores','Imprecisiones']]\n",
        "y = df2['Elo']\n",
        "x_entrenamiento,x_test,y_entrenamiento,y_test=train_test_split(x,y,test_size=0.2)\n",
        "Modelo = linear_model.LinearRegression()\n",
        "Modelo.fit(x_entrenamiento,y_entrenamiento)\n",
        "y_prediccion = Modelo.predict(x_entrenamiento)\n",
        "coeficientes = Modelo.coef_\n",
        "intercepto = Modelo.intercept_\n",
        "print(\"R cuadrada: \", Modelo.score(x_entrenamiento,y_entrenamiento))"
      ],
      "execution_count": 6,
      "outputs": [
        {
          "output_type": "stream",
          "name": "stdout",
          "text": [
            "R cuadrada:  0.04711916464757204\n"
          ]
        }
      ]
    },
    {
      "cell_type": "markdown",
      "metadata": {
        "id": "sLmb7JfJ8Epe"
      },
      "source": [
        "El modelo lineal múltiple con las 3 variables solamente puede representas menos del 5% de los datos, por lo que  es realmente un mal modelo. Veremos si se puede crear este modelo lineal con 2 variables o solamente 1."
      ]
    },
    {
      "cell_type": "code",
      "metadata": {
        "colab": {
          "base_uri": "https://localhost:8080/"
        },
        "id": "i-LbDpZFa0Pg",
        "outputId": "b4df1bdf-6a6e-4ddb-e13b-429a91564eb8"
      },
      "source": [
        "x = df2[['Meteduras_de_pata','Imprecisiones']]\n",
        "y = df2['Elo']\n",
        "x_entrenamiento,x_test,y_entrenamiento,y_test=train_test_split(x,y,test_size=0.2)\n",
        "Modelo = linear_model.LinearRegression()\n",
        "Modelo.fit(x_entrenamiento,y_entrenamiento)\n",
        "y_prediccion = Modelo.predict(x_entrenamiento)\n",
        "coeficientes = Modelo.coef_\n",
        "intercepto = Modelo.intercept_\n",
        "print(\"R cuadrada: \", Modelo.score(x_entrenamiento,y_entrenamiento))"
      ],
      "execution_count": 7,
      "outputs": [
        {
          "output_type": "stream",
          "name": "stdout",
          "text": [
            "R cuadrada:  0.045956844051309065\n"
          ]
        }
      ]
    },
    {
      "cell_type": "code",
      "metadata": {
        "colab": {
          "base_uri": "https://localhost:8080/"
        },
        "id": "zb9vX8Eva58a",
        "outputId": "699dbc10-8538-4c7f-e787-1a70111d8d7d"
      },
      "source": [
        "x = df2[['Errores','Imprecisiones']]\n",
        "y = df2['Elo']\n",
        "x_entrenamiento,x_test,y_entrenamiento,y_test=train_test_split(x,y,test_size=0.2)\n",
        "Modelo = linear_model.LinearRegression()\n",
        "Modelo.fit(x_entrenamiento,y_entrenamiento)\n",
        "y_prediccion = Modelo.predict(x_entrenamiento)\n",
        "coeficientes = Modelo.coef_\n",
        "intercepto = Modelo.intercept_\n",
        "print(\"R cuadrada: \", Modelo.score(x_entrenamiento,y_entrenamiento))"
      ],
      "execution_count": 8,
      "outputs": [
        {
          "output_type": "stream",
          "name": "stdout",
          "text": [
            "R cuadrada:  0.004148524520065977\n"
          ]
        }
      ]
    },
    {
      "cell_type": "code",
      "metadata": {
        "colab": {
          "base_uri": "https://localhost:8080/"
        },
        "id": "x2j_x8EYa6Bp",
        "outputId": "0dbbdb4b-5026-4b4e-d5b0-a7798461f07a"
      },
      "source": [
        "x = df2[['Meteduras_de_pata','Errores']]\n",
        "y = df2['Elo']\n",
        "x_entrenamiento,x_test,y_entrenamiento,y_test=train_test_split(x,y,test_size=0.2)\n",
        "Modelo = linear_model.LinearRegression()\n",
        "Modelo.fit(x_entrenamiento,y_entrenamiento)\n",
        "y_prediccion = Modelo.predict(x_entrenamiento)\n",
        "coeficientes = Modelo.coef_\n",
        "intercepto = Modelo.intercept_\n",
        "print(\"R cuadrada: \", Modelo.score(x_entrenamiento,y_entrenamiento))"
      ],
      "execution_count": 9,
      "outputs": [
        {
          "output_type": "stream",
          "name": "stdout",
          "text": [
            "R cuadrada:  0.041698384152699\n"
          ]
        }
      ]
    },
    {
      "cell_type": "code",
      "metadata": {
        "colab": {
          "base_uri": "https://localhost:8080/"
        },
        "id": "mTuu8Yg-a6I3",
        "outputId": "9e3663c2-0b85-4d12-ae32-506f3aa507c8"
      },
      "source": [
        "x = df2[['Imprecisiones']]\n",
        "y = df2['Elo']\n",
        "x_entrenamiento,x_test,y_entrenamiento,y_test=train_test_split(x,y,test_size=0.2)\n",
        "Modelo = linear_model.LinearRegression()\n",
        "Modelo.fit(x_entrenamiento,y_entrenamiento)\n",
        "y_prediccion = Modelo.predict(x_entrenamiento)\n",
        "coeficientes = Modelo.coef_\n",
        "intercepto = Modelo.intercept_\n",
        "print(\"R cuadrada: \", Modelo.score(x_entrenamiento,y_entrenamiento))"
      ],
      "execution_count": 10,
      "outputs": [
        {
          "output_type": "stream",
          "name": "stdout",
          "text": [
            "R cuadrada:  0.0035512168093041474\n"
          ]
        }
      ]
    },
    {
      "cell_type": "code",
      "metadata": {
        "colab": {
          "base_uri": "https://localhost:8080/"
        },
        "id": "n7-NmZZNa_k9",
        "outputId": "f7bd15c7-8e8f-4908-de79-abdf9c520128"
      },
      "source": [
        "x = df2[['Errores']]\n",
        "y = df2['Elo']\n",
        "x_entrenamiento,x_test,y_entrenamiento,y_test=train_test_split(x,y,test_size=0.2)\n",
        "Modelo = linear_model.LinearRegression()\n",
        "Modelo.fit(x_entrenamiento,y_entrenamiento)\n",
        "y_prediccion = Modelo.predict(x_entrenamiento)\n",
        "coeficientes = Modelo.coef_\n",
        "intercepto = Modelo.intercept_\n",
        "print(\"R cuadrada: \", Modelo.score(x_entrenamiento,y_entrenamiento))"
      ],
      "execution_count": 11,
      "outputs": [
        {
          "output_type": "stream",
          "name": "stdout",
          "text": [
            "R cuadrada:  9.581647028067408e-05\n"
          ]
        }
      ]
    },
    {
      "cell_type": "code",
      "metadata": {
        "colab": {
          "base_uri": "https://localhost:8080/"
        },
        "id": "yGli1RvSa_zl",
        "outputId": "e14a2fff-a2d6-4a65-f092-ca1e7a9c0cf2"
      },
      "source": [
        "x = df2[['Meteduras_de_pata']]\n",
        "y = df2['Elo']\n",
        "x_entrenamiento,x_test,y_entrenamiento,y_test=train_test_split(x,y,test_size=0.2)\n",
        "Modelo = linear_model.LinearRegression()\n",
        "Modelo.fit(x_entrenamiento,y_entrenamiento)\n",
        "y_prediccion = Modelo.predict(x_entrenamiento)\n",
        "coeficientes = Modelo.coef_\n",
        "intercepto = Modelo.intercept_\n",
        "print(\"R cuadrada: \", Modelo.score(x_entrenamiento,y_entrenamiento))"
      ],
      "execution_count": 12,
      "outputs": [
        {
          "output_type": "stream",
          "name": "stdout",
          "text": [
            "R cuadrada:  0.03921035910616588\n"
          ]
        }
      ]
    },
    {
      "cell_type": "markdown",
      "metadata": {
        "id": "ZcGi-nVDbLcC"
      },
      "source": [
        "Vemos que usando regresión lineal, nuestras R cuadradas son demasiado bajas, por lo que es el \"Elo\" de los jugadores no es posible predecirlo mediante los errores de los jugadores."
      ]
    },
    {
      "cell_type": "markdown",
      "metadata": {
        "id": "sIVs21PR9rhj"
      },
      "source": [
        "**Arbol de decisión**  \n",
        "Antes de usar esta técnica, ajustaremos los datos:"
      ]
    },
    {
      "cell_type": "code",
      "metadata": {
        "colab": {
          "base_uri": "https://localhost:8080/",
          "height": 206
        },
        "id": "-KDWE9Vg4XE0",
        "outputId": "a9c13698-0e34-429d-e3a8-b0e2362ca2d7"
      },
      "source": [
        "#Crear columnas de blancas\n",
        "Blancas=df.drop({'Apertura','WhiteElo','Resultado','Terminacion','BlackElo','Tipo_juego','Movimientos','Categoria_Negras','Negras_Metedura_de_patas',\n",
        "                  'Negras_Errores','Negras_Imprecision'}, axis = 1)\n",
        "#Cambiaremos los nombres\n",
        "Blancas=Blancas.rename(columns = {'Categoria_Blancas':'Categoria','Blancas_Errores':'Errores','Blancas_Imprecision':'Imprecisiones',\n",
        "                                  'Blancas_Metedura_de_patas':'Meteduras_de_pata'})\n",
        "Blancas\n",
        "#Crear columnas de negras\n",
        "Negras=df.drop({'Apertura','BlackElo','Resultado','Terminacion','Categoria_Blancas','Tipo_juego','Movimientos','WhiteElo','Blancas_Metedura_de_patas',\n",
        "                  'Blancas_Errores','Blancas_Imprecision'}, axis = 1)\n",
        "#Cambiaremos los nombres\n",
        "Negras=Blancas.rename(columns = {'Categoria_Negras':'Categoria','Negras_Errores':'Errores','Negras_Imprecision':'Imprecisiones',\n",
        "                                  'Negras_Metedura_de_patas':'Meteduras_de_pata'})\n",
        "df3=Blancas.append(Negras)\n",
        "df3.head(5)"
      ],
      "execution_count": 13,
      "outputs": [
        {
          "output_type": "execute_result",
          "data": {
            "text/html": [
              "<div>\n",
              "<style scoped>\n",
              "    .dataframe tbody tr th:only-of-type {\n",
              "        vertical-align: middle;\n",
              "    }\n",
              "\n",
              "    .dataframe tbody tr th {\n",
              "        vertical-align: top;\n",
              "    }\n",
              "\n",
              "    .dataframe thead th {\n",
              "        text-align: right;\n",
              "    }\n",
              "</style>\n",
              "<table border=\"1\" class=\"dataframe\">\n",
              "  <thead>\n",
              "    <tr style=\"text-align: right;\">\n",
              "      <th></th>\n",
              "      <th>Categoria</th>\n",
              "      <th>Meteduras_de_pata</th>\n",
              "      <th>Errores</th>\n",
              "      <th>Imprecisiones</th>\n",
              "    </tr>\n",
              "  </thead>\n",
              "  <tbody>\n",
              "    <tr>\n",
              "      <th>0</th>\n",
              "      <td>Low rating</td>\n",
              "      <td>2</td>\n",
              "      <td>3</td>\n",
              "      <td>1</td>\n",
              "    </tr>\n",
              "    <tr>\n",
              "      <th>1</th>\n",
              "      <td>Low rating</td>\n",
              "      <td>1</td>\n",
              "      <td>1</td>\n",
              "      <td>5</td>\n",
              "    </tr>\n",
              "    <tr>\n",
              "      <th>2</th>\n",
              "      <td>Low rating</td>\n",
              "      <td>1</td>\n",
              "      <td>2</td>\n",
              "      <td>8</td>\n",
              "    </tr>\n",
              "    <tr>\n",
              "      <th>3</th>\n",
              "      <td>High rating</td>\n",
              "      <td>2</td>\n",
              "      <td>5</td>\n",
              "      <td>4</td>\n",
              "    </tr>\n",
              "    <tr>\n",
              "      <th>4</th>\n",
              "      <td>High rating</td>\n",
              "      <td>0</td>\n",
              "      <td>1</td>\n",
              "      <td>2</td>\n",
              "    </tr>\n",
              "  </tbody>\n",
              "</table>\n",
              "</div>"
            ],
            "text/plain": [
              "     Categoria  Meteduras_de_pata  Errores  Imprecisiones\n",
              "0   Low rating                  2        3              1\n",
              "1   Low rating                  1        1              5\n",
              "2   Low rating                  1        2              8\n",
              "3  High rating                  2        5              4\n",
              "4  High rating                  0        1              2"
            ]
          },
          "metadata": {},
          "execution_count": 13
        }
      ]
    },
    {
      "cell_type": "markdown",
      "metadata": {
        "id": "MV1_ciE5_PbJ"
      },
      "source": [
        "Con esta tabla, trataremos de ver si podemos crear un árbol de desición que pueda clasificar a los jugadores:"
      ]
    },
    {
      "cell_type": "code",
      "metadata": {
        "id": "ulESjFp7JHLn"
      },
      "source": [
        "predictors = df3[['Meteduras_de_pata','Errores','Imprecisiones']]\n",
        "targets = df3['Categoria']\n",
        "predictors_labels = ['Meteduras_de_pata','Errores','Imprecisiones']\n",
        "targets_labels = df3['Categoria'].unique()\n",
        "x_entrenamiento,x_test,y_entrenamiento,y_test=train_test_split(predictors,targets)\n",
        "arbol=DecisionTreeClassifier()\n",
        "arbol.fit(x_entrenamiento,y_entrenamiento)\n",
        "export_graphviz(arbol,out_file='arbol.dot',class_names=targets_labels,feature_names=predictors_labels,impurity=False, filled=True)\n",
        "with open('arbol.dot') as f:\n",
        "  dot_graph=f.read()\n",
        "graphviz.Source(dot_graph)\n",
        "#En el github no se mostrará el árbol de decisión por lo pesado del mismo"
      ],
      "execution_count": null,
      "outputs": []
    },
    {
      "cell_type": "code",
      "metadata": {
        "colab": {
          "base_uri": "https://localhost:8080/",
          "height": 265
        },
        "id": "_YPZ98yrCep_",
        "outputId": "ea768192-bf9e-431e-9c6b-d4c67d9ab625"
      },
      "source": [
        "caract=3\n",
        "plt.barh(range(caract),arbol.feature_importances_)\n",
        "plt.yticks(np.arange(caract),predictors_labels)\n",
        "plt.show()"
      ],
      "execution_count": 17,
      "outputs": [
        {
          "output_type": "display_data",
          "data": {
            "image/png": "[encoded data removed]",
            "text/plain": [
              "<Figure size 432x288 with 1 Axes>"
            ]
          },
          "metadata": {
            "needs_background": "light"
          }
        }
      ]
    },
    {
      "cell_type": "code",
      "metadata": {
        "colab": {
          "base_uri": "https://localhost:8080/"
        },
        "id": "rKELVT-4EIjB",
        "outputId": "d352f758-8c5f-4654-ce8f-e91edeabc728"
      },
      "source": [
        "arbol.score(x_test,y_test)"
      ],
      "execution_count": 18,
      "outputs": [
        {
          "output_type": "execute_result",
          "data": {
            "text/plain": [
              "0.8008465444355612"
            ]
          },
          "metadata": {},
          "execution_count": 18
        }
      ]
    },
    {
      "cell_type": "code",
      "metadata": {
        "colab": {
          "base_uri": "https://localhost:8080/"
        },
        "id": "IiTK0JGfEOdK",
        "outputId": "d64c2c58-91f7-40db-adf1-3ab8649232d3"
      },
      "source": [
        "arbol.score(x_entrenamiento,y_entrenamiento)"
      ],
      "execution_count": 19,
      "outputs": [
        {
          "output_type": "execute_result",
          "data": {
            "text/plain": [
              "0.8003452134214329"
            ]
          },
          "metadata": {},
          "execution_count": 19
        }
      ]
    },
    {
      "cell_type": "code",
      "metadata": {
        "colab": {
          "base_uri": "https://localhost:8080/"
        },
        "id": "9dSK_Rp0e8Dt",
        "outputId": "2486920a-e0a6-4375-c0f5-853d9afe7df5"
      },
      "source": [
        "arbol.tree_.max_depth"
      ],
      "execution_count": 32,
      "outputs": [
        {
          "output_type": "execute_result",
          "data": {
            "text/plain": [
              "24"
            ]
          },
          "metadata": {},
          "execution_count": 32
        }
      ]
    },
    {
      "cell_type": "markdown",
      "metadata": {
        "id": "WYXccCtDb3m3"
      },
      "source": [
        "Vemos que el arbol de decisión clasifica a los jugadores dependiendo de su clase, es decir, si son \"Low\", \"High\" o \"GM\", este tiene una efectividad del 80% según las pruebas, 24 niveles de profundidad y la característica que más relevancia tiene son las metedura de pata. El problema es que el tamaño del árbol es realmente grande, y puede que esté sesgado por la gran cantidad de jugadores en \"Low rating\" o por el hecho de que solamente el 1% de los jugadores es \"GM rating\", alargando más el arbol y haciéndolo menos específico. Lo que se podría hacer es crear nuestra propia clasificación podría ayudar a que este sea un poco mas exacto y preciso a la hora de querer clasificar a algún jugador."
      ]
    }
  ]
}