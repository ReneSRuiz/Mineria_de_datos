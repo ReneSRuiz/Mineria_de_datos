{
  "nbformat": 4,
  "nbformat_minor": 0,
  "metadata": {
    "colab": {
      "name": "Untitled0.ipynb",
      "provenance": [],
      "authorship_tag": "ABX9TyOVaRhiqnTF9MHqbwybwo5/",
      "include_colab_link": true
    },
    "kernelspec": {
      "name": "python3",
      "display_name": "Python 3"
    },
    "language_info": {
      "name": "python"
    }
  },
  "cells": [
    {
      "cell_type": "markdown",
      "metadata": {
        "id": "view-in-github",
        "colab_type": "text"
      },
      "source": [
        "<a href=\"https://colab.research.google.com/github/ReneSRuiz/Mineria_de_datos/blob/main/Outliers_Codigo.ipynb\" target=\"_parent\"><img src=\"https://colab.research.google.com/assets/colab-badge.svg\" alt=\"Open In Colab\"/></a>"
      ]
    },
    {
      "cell_type": "code",
      "metadata": {
        "id": "6CNr1SinBSQh"
      },
      "source": [
        "import numpy as np\n",
        "import pandas as pd\n",
        "import matplotlib.pyplot as plt"
      ],
      "execution_count": 1,
      "outputs": []
    },
    {
      "cell_type": "code",
      "metadata": {
        "colab": {
          "base_uri": "https://localhost:8080/",
          "height": 455
        },
        "id": "SOFJSlutBvqg",
        "outputId": "86c429c5-b25b-45ba-b790-8c728af4740b"
      },
      "source": [
        "Rios = pd.read_csv(\"RIOS.csv\", index_col=0)\n",
        "Rios"
      ],
      "execution_count": 2,
      "outputs": [
        {
          "output_type": "execute_result",
          "data": {
            "text/html": [
              "<div>\n",
              "<style scoped>\n",
              "    .dataframe tbody tr th:only-of-type {\n",
              "        vertical-align: middle;\n",
              "    }\n",
              "\n",
              "    .dataframe tbody tr th {\n",
              "        vertical-align: top;\n",
              "    }\n",
              "\n",
              "    .dataframe thead th {\n",
              "        text-align: right;\n",
              "    }\n",
              "</style>\n",
              "<table border=\"1\" class=\"dataframe\">\n",
              "  <thead>\n",
              "    <tr style=\"text-align: right;\">\n",
              "      <th></th>\n",
              "      <th>Millas</th>\n",
              "    </tr>\n",
              "    <tr>\n",
              "      <th>Rio</th>\n",
              "      <th></th>\n",
              "    </tr>\n",
              "  </thead>\n",
              "  <tbody>\n",
              "    <tr>\n",
              "      <th>1</th>\n",
              "      <td>735</td>\n",
              "    </tr>\n",
              "    <tr>\n",
              "      <th>2</th>\n",
              "      <td>320</td>\n",
              "    </tr>\n",
              "    <tr>\n",
              "      <th>3</th>\n",
              "      <td>325</td>\n",
              "    </tr>\n",
              "    <tr>\n",
              "      <th>4</th>\n",
              "      <td>392</td>\n",
              "    </tr>\n",
              "    <tr>\n",
              "      <th>5</th>\n",
              "      <td>524</td>\n",
              "    </tr>\n",
              "    <tr>\n",
              "      <th>...</th>\n",
              "      <td>...</td>\n",
              "    </tr>\n",
              "    <tr>\n",
              "      <th>137</th>\n",
              "      <td>720</td>\n",
              "    </tr>\n",
              "    <tr>\n",
              "      <th>138</th>\n",
              "      <td>270</td>\n",
              "    </tr>\n",
              "    <tr>\n",
              "      <th>139</th>\n",
              "      <td>430</td>\n",
              "    </tr>\n",
              "    <tr>\n",
              "      <th>140</th>\n",
              "      <td>671</td>\n",
              "    </tr>\n",
              "    <tr>\n",
              "      <th>141</th>\n",
              "      <td>1770</td>\n",
              "    </tr>\n",
              "  </tbody>\n",
              "</table>\n",
              "<p>141 rows × 1 columns</p>\n",
              "</div>"
            ],
            "text/plain": [
              "     Millas\n",
              "Rio        \n",
              "1       735\n",
              "2       320\n",
              "3       325\n",
              "4       392\n",
              "5       524\n",
              "..      ...\n",
              "137     720\n",
              "138     270\n",
              "139     430\n",
              "140     671\n",
              "141    1770\n",
              "\n",
              "[141 rows x 1 columns]"
            ]
          },
          "metadata": {},
          "execution_count": 2
        }
      ]
    },
    {
      "cell_type": "code",
      "metadata": {
        "colab": {
          "base_uri": "https://localhost:8080/",
          "height": 265
        },
        "id": "ikqzd5I0FiH1",
        "outputId": "ae92a9a1-e25b-4e88-ec08-48328807fef4"
      },
      "source": [
        "plt.boxplot(Rios[\"Millas\"], vert=False)\n",
        "plt.show()"
      ],
      "execution_count": 3,
      "outputs": [
        {
          "output_type": "display_data",
          "data": {
            "image/png": "[encoded data removed]",
            "text/plain": [
              "<Figure size 432x288 with 1 Axes>"
            ]
          },
          "metadata": {
            "needs_background": "light"
          }
        }
      ]
    },
    {
      "cell_type": "code",
      "metadata": {
        "colab": {
          "base_uri": "https://localhost:8080/"
        },
        "id": "3_FklgFtF0R_",
        "outputId": "3dad8fed-a50e-4500-f57c-a669f26066b3"
      },
      "source": [
        "Q1=Rios[\"Millas\"].quantile(0.25)\n",
        "print(\"Primer cuartil: \",Q1)\n",
        "Q3=Rios[\"Millas\"].quantile(0.75)\n",
        "print(\"Tercer cuartil: \",Q3)\n",
        "IQR=Q3-Q1\n",
        "print(\"Rango intercuartil: \",IQR)\n",
        "Valor_Min=Rios[\"Millas\"].min()\n",
        "print(\"Valor mínimo: \",Valor_Min)\n",
        "BI_Calculado=Q1-1.5*IQR\n",
        "print(\"Bigote inferior: \" ,BI_Calculado)\n",
        "Valor_Max=Rios[\"Millas\"].max()\n",
        "print(\"Valor máximo: \",Valor_Max)\n",
        "BS_Calculado=Q3+1.5*IQR\n",
        "print(\"Bigote superior: \" ,BS_Calculado)"
      ],
      "execution_count": 4,
      "outputs": [
        {
          "output_type": "stream",
          "name": "stdout",
          "text": [
            "Primer cuartil:  310.0\n",
            "Tercer cuartil:  680.0\n",
            "Rango intercuartil:  370.0\n",
            "Valor mínimo:  135\n",
            "Bigote inferior:  -245.0\n",
            "Valor máximo:  3710\n",
            "Bigote superior:  1235.0\n"
          ]
        }
      ]
    },
    {
      "cell_type": "code",
      "metadata": {
        "colab": {
          "base_uri": "https://localhost:8080/"
        },
        "id": "k2VCjm2DHIR7",
        "outputId": "808b551c-9d2d-4878-ae2b-44eb6ffc0bae"
      },
      "source": [
        "ubicacion_outliers=(Rios[\"Millas\"]<BI_Calculado) | (Rios[\"Millas\"]>BS_Calculado)\n",
        "print(\"Ubicación de outliers\\n\", ubicacion_outliers)"
      ],
      "execution_count": 6,
      "outputs": [
        {
          "output_type": "stream",
          "name": "stdout",
          "text": [
            "Ubicación de outliers\n",
            " Rio\n",
            "1      False\n",
            "2      False\n",
            "3      False\n",
            "4      False\n",
            "5      False\n",
            "       ...  \n",
            "137    False\n",
            "138    False\n",
            "139    False\n",
            "140    False\n",
            "141     True\n",
            "Name: Millas, Length: 141, dtype: bool\n"
          ]
        }
      ]
    },
    {
      "cell_type": "code",
      "metadata": {
        "colab": {
          "base_uri": "https://localhost:8080/"
        },
        "id": "pW2o_3HLHlvW",
        "outputId": "914c0f75-043f-4d84-b191-3db119428150"
      },
      "source": [
        "outliers=Rios[ubicacion_outliers]\n",
        "print(\"Lista outliers\\n\", outliers)"
      ],
      "execution_count": 7,
      "outputs": [
        {
          "output_type": "stream",
          "name": "stdout",
          "text": [
            "Lista outliers\n",
            "      Millas\n",
            "Rio        \n",
            "7      1459\n",
            "23     1450\n",
            "25     1243\n",
            "66     2348\n",
            "68     3710\n",
            "69     2315\n",
            "70     2533\n",
            "83     1306\n",
            "98     1270\n",
            "101    1885\n",
            "141    1770\n"
          ]
        }
      ]
    },
    {
      "cell_type": "code",
      "metadata": {
        "colab": {
          "base_uri": "https://localhost:8080/",
          "height": 455
        },
        "id": "Awv4mBtUHpou",
        "outputId": "90d9a419-1ea7-4457-cae4-43f36f678510"
      },
      "source": [
        "ubicacion_sin_outliert= (Rios[\"Millas\"] >= BI_Calculado) & (Rios[\"Millas\"] <= BS_Calculado)\n",
        "Sin_outliers=Rios[ubicacion_sin_outliert]\n",
        "Sin_outliers"
      ],
      "execution_count": 8,
      "outputs": [
        {
          "output_type": "execute_result",
          "data": {
            "text/html": [
              "<div>\n",
              "<style scoped>\n",
              "    .dataframe tbody tr th:only-of-type {\n",
              "        vertical-align: middle;\n",
              "    }\n",
              "\n",
              "    .dataframe tbody tr th {\n",
              "        vertical-align: top;\n",
              "    }\n",
              "\n",
              "    .dataframe thead th {\n",
              "        text-align: right;\n",
              "    }\n",
              "</style>\n",
              "<table border=\"1\" class=\"dataframe\">\n",
              "  <thead>\n",
              "    <tr style=\"text-align: right;\">\n",
              "      <th></th>\n",
              "      <th>Millas</th>\n",
              "    </tr>\n",
              "    <tr>\n",
              "      <th>Rio</th>\n",
              "      <th></th>\n",
              "    </tr>\n",
              "  </thead>\n",
              "  <tbody>\n",
              "    <tr>\n",
              "      <th>1</th>\n",
              "      <td>735</td>\n",
              "    </tr>\n",
              "    <tr>\n",
              "      <th>2</th>\n",
              "      <td>320</td>\n",
              "    </tr>\n",
              "    <tr>\n",
              "      <th>3</th>\n",
              "      <td>325</td>\n",
              "    </tr>\n",
              "    <tr>\n",
              "      <th>4</th>\n",
              "      <td>392</td>\n",
              "    </tr>\n",
              "    <tr>\n",
              "      <th>5</th>\n",
              "      <td>524</td>\n",
              "    </tr>\n",
              "    <tr>\n",
              "      <th>...</th>\n",
              "      <td>...</td>\n",
              "    </tr>\n",
              "    <tr>\n",
              "      <th>136</th>\n",
              "      <td>500</td>\n",
              "    </tr>\n",
              "    <tr>\n",
              "      <th>137</th>\n",
              "      <td>720</td>\n",
              "    </tr>\n",
              "    <tr>\n",
              "      <th>138</th>\n",
              "      <td>270</td>\n",
              "    </tr>\n",
              "    <tr>\n",
              "      <th>139</th>\n",
              "      <td>430</td>\n",
              "    </tr>\n",
              "    <tr>\n",
              "      <th>140</th>\n",
              "      <td>671</td>\n",
              "    </tr>\n",
              "  </tbody>\n",
              "</table>\n",
              "<p>130 rows × 1 columns</p>\n",
              "</div>"
            ],
            "text/plain": [
              "     Millas\n",
              "Rio        \n",
              "1       735\n",
              "2       320\n",
              "3       325\n",
              "4       392\n",
              "5       524\n",
              "..      ...\n",
              "136     500\n",
              "137     720\n",
              "138     270\n",
              "139     430\n",
              "140     671\n",
              "\n",
              "[130 rows x 1 columns]"
            ]
          },
          "metadata": {},
          "execution_count": 8
        }
      ]
    },
    {
      "cell_type": "code",
      "metadata": {
        "colab": {
          "base_uri": "https://localhost:8080/",
          "height": 265
        },
        "id": "7xcgAzL7IVcL",
        "outputId": "55b7b9f7-fce0-4161-8a83-b8c45dd61994"
      },
      "source": [
        "plt.boxplot(Sin_outliers[\"Millas\"], vert=False)\n",
        "plt.show()"
      ],
      "execution_count": 9,
      "outputs": [
        {
          "output_type": "display_data",
          "data": {
            "image/png": "[encoded data removed]",
            "text/plain": [
              "<Figure size 432x288 with 1 Axes>"
            ]
          },
          "metadata": {
            "needs_background": "light"
          }
        }
      ]
    }
  ]
}