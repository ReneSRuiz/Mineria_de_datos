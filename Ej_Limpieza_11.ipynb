{
  "nbformat": 4,
  "nbformat_minor": 0,
  "metadata": {
    "colab": {
      "name": "Ej_Limpieza_11",
      "provenance": [],
      "collapsed_sections": [],
      "authorship_tag": "ABX9TyM6QKzuOwTR+34HJuHuN2Qq",
      "include_colab_link": true
    },
    "kernelspec": {
      "name": "python3",
      "display_name": "Python 3"
    },
    "language_info": {
      "name": "python"
    }
  },
  "cells": [
    {
      "cell_type": "markdown",
      "metadata": {
        "id": "view-in-github",
        "colab_type": "text"
      },
      "source": [
        "<a href=\"https://colab.research.google.com/github/ReneSRuiz/Mineria_de_datos/blob/main/Ej_Limpieza_11.ipynb\" target=\"_parent\"><img src=\"https://colab.research.google.com/assets/colab-badge.svg\" alt=\"Open In Colab\"/></a>"
      ]
    },
    {
      "cell_type": "markdown",
      "metadata": {
        "id": "llkk0NwfzWg1"
      },
      "source": [
        "**Equipo:** 11   \n",
        "**Grupo:** 001  \n",
        "**Frecuencia:** Lunes  \n",
        "**Integrantes:**\n",
        "* Alejandro Uriel García Alanis 1886968 \n",
        "* Jorge Eduardo Estrada Dávila 1741943 \n",
        "* Nestor Misael Paz Reyes 1559508\n",
        "* Elisa González García 1858207 \n",
        "* Rene Sobrevilla Ruiz 1941452  \n",
        "  \n",
        "**Datos a utilizar:** Clasificación de plantas (https://www.kaggle.com/uciml/iris)\n"
      ]
    },
    {
      "cell_type": "markdown",
      "metadata": {
        "id": "kFQoqlHEdOsO"
      },
      "source": [
        "**Tarea de limpieza de datos:**\n",
        "\n",
        "* **Importar librerias y base de datos.**  \n",
        "Primero importaremos las librerias de pandas y numpy. Después crearemos nuestro dataframe con el csv de los datos de las Iris llamada \"DatosIris.csv\". (link de los datos https://www.kaggle.com/uciml/iris) (Se cambió de nombre al descargarse)\n"
      ]
    },
    {
      "cell_type": "code",
      "metadata": {
        "id": "NP7ty9kOeG5S"
      },
      "source": [
        "#importando las librerias\n",
        "import pandas as pd\n",
        "import numpy as np\n",
        "#Nuestros datos a trabajar son\n",
        "df = pd.read_csv(\"DatosIris.csv\", index_col=\"Id\")"
      ],
      "execution_count": null,
      "outputs": []
    },
    {
      "cell_type": "markdown",
      "metadata": {
        "id": "Ks2Y1q5td0m3"
      },
      "source": [
        "* **Visualizar los datos.**  \n",
        "Aquí veremos los primeros 3 datos, los últimos 3 datos y al final, los nombres de las columnas.\n"
      ]
    },
    {
      "cell_type": "code",
      "metadata": {
        "colab": {
          "base_uri": "https://localhost:8080/"
        },
        "id": "i8Bgi2uMhGS1",
        "outputId": "133b318e-9edc-43e8-baef-e3c9f870884d"
      },
      "source": [
        "#Veamos los primeros 3 datos\n",
        "print(df.head(3), \"\\n\")\n",
        "#Veamos los últimos 3 datos\n",
        "print(df.tail(3),\"\\n\")\n",
        "#Veamos los nombres de las columnas\n",
        "print(\"\\n\", df.columns, \"\\n\")"
      ],
      "execution_count": null,
      "outputs": [
        {
          "output_type": "stream",
          "text": [
            "    SepalLengthCm  SepalWidthCm  PetalLengthCm  PetalWidthCm      Species\n",
            "Id                                                                       \n",
            "1             5.1           3.5            1.4           0.2  Iris-setosa\n",
            "2             4.9           3.0            1.4           0.2  Iris-setosa\n",
            "3             4.7           3.2            1.3           0.2  Iris-setosa \n",
            "\n",
            "     SepalLengthCm  SepalWidthCm  PetalLengthCm  PetalWidthCm         Species\n",
            "Id                                                                           \n",
            "148            6.5           3.0            5.2           2.0  Iris-virginica\n",
            "149            6.2           3.4            5.4           2.3  Iris-virginica\n",
            "150            5.9           3.0            5.1           1.8  Iris-virginica \n",
            "\n",
            "\n",
            " Index(['SepalLengthCm', 'SepalWidthCm', 'PetalLengthCm', 'PetalWidthCm',\n",
            "       'Species'],\n",
            "      dtype='object') \n",
            "\n"
          ],
          "name": "stdout"
        }
      ]
    },
    {
      "cell_type": "markdown",
      "metadata": {
        "id": "0cUmkfAzd01B"
      },
      "source": [
        "* **Descrpcion básica de columnas (tipo, elementos, celdas vacias, etc.)**  \n"
      ]
    },
    {
      "cell_type": "code",
      "metadata": {
        "colab": {
          "base_uri": "https://localhost:8080/"
        },
        "id": "qW5_pQrwjKbV",
        "outputId": "6b292363-cc53-4c9d-8ce1-5775f422741f"
      },
      "source": [
        "#Veamos las dimensiones de nuestro dataframe\n",
        "print(\"Dimensiones: \", df.ndim)\n",
        "#Veamos el número de filas\n",
        "print(\"Filas: \",df.shape[0])\n",
        "#Veamos el número de columnas\n",
        "print(\"Columnas: \",df.shape[1])\n",
        "#Veamos la cantidad de datos de nuestro dataframe\n",
        "print(\"Datos totales: \", df.size, \"\\n\")\n",
        "#Veamos el tipo de datos por columna\n",
        "print(df.dtypes, \"\\n\")\n",
        "#Vemos si hay datos vacios\n",
        "df.isnull().sum() #Vemos que no hay datos vacios en ninguna columna"
      ],
      "execution_count": null,
      "outputs": [
        {
          "output_type": "stream",
          "text": [
            "Dimensiones:  2\n",
            "Filas:  150\n",
            "Columnas:  5\n",
            "Datos totales:  750 \n",
            "\n",
            "SepalLengthCm    float64\n",
            "SepalWidthCm     float64\n",
            "PetalLengthCm    float64\n",
            "PetalWidthCm     float64\n",
            "Species           object\n",
            "dtype: object \n",
            "\n"
          ],
          "name": "stdout"
        },
        {
          "output_type": "execute_result",
          "data": {
            "text/plain": [
              "SepalLengthCm    0\n",
              "SepalWidthCm     0\n",
              "PetalLengthCm    0\n",
              "PetalWidthCm     0\n",
              "Species          0\n",
              "dtype: int64"
            ]
          },
          "metadata": {},
          "execution_count": 3
        }
      ]
    },
    {
      "cell_type": "markdown",
      "metadata": {
        "id": "S8squxuwxD1X"
      },
      "source": [
        "Vemos que la dimensión de nuestro csv es de 2 (es lo esperado), contiene 5 columnas y 150 filas por columna, con un total de 750 datos. Vemos que todos los datos son flotantes, a excepción de la última columna, la cual son objetos. Además, no se cuentan con datos nulos, por lo que está completa la información."
      ]
    },
    {
      "cell_type": "markdown",
      "metadata": {
        "id": "PNc-mT12mJGg"
      },
      "source": [
        "* **Cambiar nombres de columnas.**  \n",
        "Como las columnas tienen nombres en inglés, decidimos cambiarlas a su traducción al español para recordar sus nombres de mejor manera"
      ]
    },
    {
      "cell_type": "code",
      "metadata": {
        "colab": {
          "base_uri": "https://localhost:8080/",
          "height": 237
        },
        "id": "xqGU2VAJmRBW",
        "outputId": "32a78044-aaee-4c79-d8ba-9c7e63293cd3"
      },
      "source": [
        "#Cambiaremos los nombres de inglés a español\n",
        "df=df.rename(columns = {'SepalLengthCm':'LargoSepalCm','SepalWidthCm':'AnchoSepalCm','PetalLengthCm':'LargoPetaloCm','PetalWidthCm':'AnchoPetaloCm'})\n",
        "df.head(5)"
      ],
      "execution_count": null,
      "outputs": [
        {
          "output_type": "execute_result",
          "data": {
            "text/html": [
              "<div>\n",
              "<style scoped>\n",
              "    .dataframe tbody tr th:only-of-type {\n",
              "        vertical-align: middle;\n",
              "    }\n",
              "\n",
              "    .dataframe tbody tr th {\n",
              "        vertical-align: top;\n",
              "    }\n",
              "\n",
              "    .dataframe thead th {\n",
              "        text-align: right;\n",
              "    }\n",
              "</style>\n",
              "<table border=\"1\" class=\"dataframe\">\n",
              "  <thead>\n",
              "    <tr style=\"text-align: right;\">\n",
              "      <th></th>\n",
              "      <th>LargoSepalCm</th>\n",
              "      <th>AnchoSepalCm</th>\n",
              "      <th>LargoPetaloCm</th>\n",
              "      <th>AnchoPetaloCm</th>\n",
              "      <th>Species</th>\n",
              "    </tr>\n",
              "    <tr>\n",
              "      <th>Id</th>\n",
              "      <th></th>\n",
              "      <th></th>\n",
              "      <th></th>\n",
              "      <th></th>\n",
              "      <th></th>\n",
              "    </tr>\n",
              "  </thead>\n",
              "  <tbody>\n",
              "    <tr>\n",
              "      <th>1</th>\n",
              "      <td>5.1</td>\n",
              "      <td>3.5</td>\n",
              "      <td>1.4</td>\n",
              "      <td>0.2</td>\n",
              "      <td>Iris-setosa</td>\n",
              "    </tr>\n",
              "    <tr>\n",
              "      <th>2</th>\n",
              "      <td>4.9</td>\n",
              "      <td>3.0</td>\n",
              "      <td>1.4</td>\n",
              "      <td>0.2</td>\n",
              "      <td>Iris-setosa</td>\n",
              "    </tr>\n",
              "    <tr>\n",
              "      <th>3</th>\n",
              "      <td>4.7</td>\n",
              "      <td>3.2</td>\n",
              "      <td>1.3</td>\n",
              "      <td>0.2</td>\n",
              "      <td>Iris-setosa</td>\n",
              "    </tr>\n",
              "    <tr>\n",
              "      <th>4</th>\n",
              "      <td>4.6</td>\n",
              "      <td>3.1</td>\n",
              "      <td>1.5</td>\n",
              "      <td>0.2</td>\n",
              "      <td>Iris-setosa</td>\n",
              "    </tr>\n",
              "    <tr>\n",
              "      <th>5</th>\n",
              "      <td>5.0</td>\n",
              "      <td>3.6</td>\n",
              "      <td>1.4</td>\n",
              "      <td>0.2</td>\n",
              "      <td>Iris-setosa</td>\n",
              "    </tr>\n",
              "  </tbody>\n",
              "</table>\n",
              "</div>"
            ],
            "text/plain": [
              "    LargoSepalCm  AnchoSepalCm  LargoPetaloCm  AnchoPetaloCm      Species\n",
              "Id                                                                       \n",
              "1            5.1           3.5            1.4            0.2  Iris-setosa\n",
              "2            4.9           3.0            1.4            0.2  Iris-setosa\n",
              "3            4.7           3.2            1.3            0.2  Iris-setosa\n",
              "4            4.6           3.1            1.5            0.2  Iris-setosa\n",
              "5            5.0           3.6            1.4            0.2  Iris-setosa"
            ]
          },
          "metadata": {},
          "execution_count": 4
        }
      ]
    },
    {
      "cell_type": "markdown",
      "metadata": {
        "id": "nAA1OTGxd08V"
      },
      "source": [
        "* **El objetivo es una clasificación con los datos, asi que hay que acomodar los datos de manera que se nos facilite esta tarea.**  \n",
        "Queremos separar los datos dependiendo de la especie de iris, por lo que primero encontraremos los valores únicos de la columna de especies y, dependiendo de la cantidad de valores únicos, será nuestra clasificación por especie de Iris que tengamos."
      ]
    },
    {
      "cell_type": "code",
      "metadata": {
        "colab": {
          "base_uri": "https://localhost:8080/"
        },
        "id": "EFANksTDkp9T",
        "outputId": "ca9a1fab-f920-432f-a22f-6e7523f4a66a"
      },
      "source": [
        "#En este caso, vamos a clasificar los datos por tipo de Iris, entonces veamos si hay valores únicos:\n",
        "Especies=df.Species.unique()\n",
        "print(Especies, \"\\n\")\n",
        "#Tambien, quitaremos las columnas. Como nos enfocaremos en los pétalos, podemos eliminar el Sepal:\n",
        "df_nueva = df.drop(labels={'LargoSepalCm','AnchoSepalCm'},axis = 1 )\n",
        "#Ahora hagamos un df por especie encontrada\n",
        "Iris_setona = df_nueva[df_nueva['Species']==Especies[0]]\n",
        "Iris_versicolor = df_nueva[df_nueva['Species']==Especies[1]]\n",
        "Iris_virginica = df_nueva[df_nueva['Species']==Especies[2]]\n",
        "#Comprobemos si se realizaron los cambios:\n",
        "print(Iris_setona.head(3), \"\\n\")\n",
        "print(Iris_versicolor.head(3), \"\\n\")\n",
        "print(Iris_virginica.head(3), \"\\n\")"
      ],
      "execution_count": null,
      "outputs": [
        {
          "output_type": "stream",
          "text": [
            "['Iris-setosa' 'Iris-versicolor' 'Iris-virginica'] \n",
            "\n",
            "    LargoPetaloCm  AnchoPetaloCm      Species\n",
            "Id                                           \n",
            "1             1.4            0.2  Iris-setosa\n",
            "2             1.4            0.2  Iris-setosa\n",
            "3             1.3            0.2  Iris-setosa \n",
            "\n",
            "    LargoPetaloCm  AnchoPetaloCm          Species\n",
            "Id                                               \n",
            "51            4.7            1.4  Iris-versicolor\n",
            "52            4.5            1.5  Iris-versicolor\n",
            "53            4.9            1.5  Iris-versicolor \n",
            "\n",
            "     LargoPetaloCm  AnchoPetaloCm         Species\n",
            "Id                                               \n",
            "101            6.0            2.5  Iris-virginica\n",
            "102            5.1            1.9  Iris-virginica\n",
            "103            5.9            2.1  Iris-virginica \n",
            "\n"
          ],
          "name": "stdout"
        }
      ]
    },
    {
      "cell_type": "markdown",
      "metadata": {
        "id": "1tIx2U50eBwW"
      },
      "source": [
        "* **Guardar otros archivos con agrupaciones.**  \n",
        "Una vez teniendo los datos ya agrupados, crearemos un csv con la información de cada especie distinda para el análisis individual futuro."
      ]
    },
    {
      "cell_type": "code",
      "metadata": {
        "id": "i5C9o9oUmRwW"
      },
      "source": [
        "#Crearemos 3 archivos distintos por la agrupación que hagamos\n",
        "Iris_setona.to_csv(\"Iris setona.csv\", index=True)\n",
        "Iris_versicolor.to_csv(\"Iris versicolor.csv\", index=True)\n",
        "Iris_virginica.to_csv(\"Iris virginica.csv\", index=True)"
      ],
      "execution_count": null,
      "outputs": []
    }
  ]
}