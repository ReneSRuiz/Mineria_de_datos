{
  "nbformat": 4,
  "nbformat_minor": 0,
  "metadata": {
    "colab": {
      "name": "AvancePIA_II_001_11.ipynb",
      "provenance": [],
      "authorship_tag": "ABX9TyMnG0DcL/3OUHDAwjkoMHKj",
      "include_colab_link": true
    },
    "kernelspec": {
      "name": "python3",
      "display_name": "Python 3"
    },
    "language_info": {
      "name": "python"
    }
  },
  "cells": [
    {
      "cell_type": "markdown",
      "metadata": {
        "id": "view-in-github",
        "colab_type": "text"
      },
      "source": [
        "<a href=\"https://colab.research.google.com/github/ReneSRuiz/Mineria_de_datos/blob/main/AvancePIA_II_001_11.ipynb\" target=\"_parent\"><img src=\"https://colab.research.google.com/assets/colab-badge.svg\" alt=\"Open In Colab\"/></a>"
      ]
    },
    {
      "cell_type": "markdown",
      "metadata": {
        "id": "bMlDDgvXsjlA"
      },
      "source": [
        "**Equipo:** 11  \n",
        "**Grupo:** 001  \n",
        "**Frecuencia:** lunes  \n",
        "**Integrantes:**\n",
        "\n",
        " *   García Alanís Alejandro Uriel 1886968\n",
        " *   Estrada Dávila Jorge Eduardo 1741943\n",
        " *   Paz Reyes Néstor Misael 1559508\n",
        " *   González García Elisa 1858207\n",
        " *   Sobrevilla Ruiz Rene 1941452  \n",
        "\n",
        "**BASE DE DATOS PRINCIPAL**  \n",
        "**1) Título de la base de datos**  \n",
        "En nombre oficial de la base de datos es \"Lichess September 2020 data\", la cual se puede encontrar por el siguiente enlace: https://www.kaggle.com/noobiedatascientist/lichess-september-2020-data?select=Sept_20_analysis.csv  \n",
        "**2) Introducción general**  \n",
        "El ajedrez es un juego con muchos años de antigüedad, sencillo de entender pero con una dificultad estratégica muy interesante. Se cree que los grandes reyes y estrategas militares veían al ajedrez como una forma de estudiar a sus enemigos y mejorar como líderes. El ajedrez a tenido momentos importantes en la historia humana, desde juegos amistosos para generar alianzas entre reyes como el fin de épocas importantes como lo fué la primera victoria de un americano contra la URSS, país que dominaba este deporte en tiempos de guerra fría, significando una victoria moral para EUA.  \n",
        "El ajedrez era un deporte de nicho, popular entre gente que buscaba un juego estratégico y gente que ama el análisis tan complejo de este. Pero en tiempos modernos, con estrenos de series muy famosas, ejemplo Gambito de Dama, este juego ha alcanzado una popularuidad muy alta. Ahora, no solamente las personas \"inteligentes\" lo juegan, sino que la persona común se ha animado a aprender de este juego tan impresionante y educativo.  \n",
        "**3) Descripción de los datos**  \n",
        "Los datos de la base seleccionada estan en una tabla. En total, son más de 3 millones de filas, y 40 columnas. Cada fila representa un enfrentamiento entre 2 personas y las columnas nos revelan varios datos, como el tipo de juego, el \"elo\" de los jugadores, la fecha del juego, resultados, momentos importantes, nombre de aperturas, movimientos y errores de ambos, entre otros. Hay datos tanto enteros, flotantes y objetos (cadenas de caracteres y fechas).  \n",
        "**4) Justificación del uso de datos.**   \n",
        "Creemos que la base de datos es muy completa, ya que tiene detallado cada movimiento de los jugadores, como el estado de la partida que estos jugaron. Además, la información está muy completa, sin muchos datos nulos que puedan afectar nuestro trabajo.\n",
        "Hablando de los beneficios, al estar en su mayoria completos, creemos que podemos obtener resultados significativos y que nos ayuden a solucionar el problema planteado y analizar este juego de una manera más significativa. Es verdad que al ser muchos datos, se tardará en realizar los procesos programados, pero con paciencia, estos pueden ser muy reveladores.  \n",
        "**5) Objetivo final.**  \n",
        "Nuestro objetivo principal es poder clasificar las mejores aperturas del ajedrez, dependiento del \"elo\" que tengan los jugadores y la eficacia de estas aperturas para la creación de entrategias ganadoras.  \n",
        "Creemos que, con estos datos, podemos crear la clasificación antes mencionada y ayudar a las personas nuevas, o un poco mas experimentadas, a saber cual apertura funciona mejor dependiendo de su desempeño como de gustos, y asi, poder estudiar la apertura perfecta o cambiar su estrategia para que esta se ajuste a su estilo.  \n",
        "**6) Mencionar preguntas de interés.**  \n",
        "Hay varias cosas interesantes que podemos indagar sobre esta base, como lo pueden ser:  \n",
        "* ¿Se juegan más aperturas clásicas o modernas?  \n",
        "* ¿El tiempo promedio de juego aumenta conforme el rival?, es decir, ¿Mientras mas \"elo\" tienen los rivales, mas largas son estas partidas?\n",
        "* ¿Son igual de efectivas las aperturas populares entre la gente de \"elo bajo\" en los \"elos altos\"?  \n",
        "* ¿Las aperturas favoritas de los \"elos altos\" son efectivas en los \"elos bajos\"?\n",
        "* ¿Que tantas jugadas inadecuadas, meteduiras de patas o volteos de juego tiene un jugador de \"low elo\" comparado con los de mayor \"elo\"?  \n",
        "**LIMPIEZA DE DATOS**  \n",
        "Iniciaremos cargando los datos y mostrándolos sin manipular, además de que cargaremos las librerias necesarias para este apartado y los futuros."
      ]
    },
    {
      "cell_type": "code",
      "metadata": {
        "id": "cijxhqR8WwlQ"
      },
      "source": [
        "#importando las librerias\n",
        "import pandas as pd\n",
        "import numpy as np\n",
        "import matplotlib.pyplot as plt\n",
        "%matplotlib inline\n",
        "import seaborn as sns"
      ],
      "execution_count": 8,
      "outputs": []
    },
    {
      "cell_type": "code",
      "metadata": {
        "colab": {
          "resources": {
            "http://localhost:8080/nbextensions/google.colab/files.js": {
              "data": "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",
              "ok": true,
              "headers": [
                [
                  "content-type",
                  "application/javascript"
                ]
              ],
              "status": 200,
              "status_text": "OK"
            }
          },
          "base_uri": "https://localhost:8080/",
          "height": 74
        },
        "id": "6lvIksFoW3Vd",
        "outputId": "cd648b09-2f64-4449-ba3e-1a833a94354b"
      },
      "source": [
        "#Importar la base de datos al google colab\n",
        "from google.colab import files\n",
        "files.upload()"
      ],
      "execution_count": null,
      "outputs": [
        {
          "output_type": "display_data",
          "data": {
            "text/html": [
              "\n",
              "     <input type=\"file\" id=\"files-71182ea1-2859-4b93-8eee-4931cd2449c6\" name=\"files[]\" multiple disabled\n",
              "        style=\"border:none\" />\n",
              "     <output id=\"result-71182ea1-2859-4b93-8eee-4931cd2449c6\">\n",
              "      Upload widget is only available when the cell has been executed in the\n",
              "      current browser session. Please rerun this cell to enable.\n",
              "      </output>\n",
              "      <script src=\"/nbextensions/google.colab/files.js\"></script> "
            ],
            "text/plain": [
              "<IPython.core.display.HTML object>"
            ]
          },
          "metadata": {}
        },
        {
          "output_type": "stream",
          "name": "stdout",
          "text": [
            "Saving Sept_20_analysis.csv to Sept_20_analysis.csv\n"
          ]
        }
      ]
    },
    {
      "cell_type": "code",
      "metadata": {
        "colab": {
          "base_uri": "https://localhost:8080/",
          "height": 400
        },
        "id": "SrIeXyywt9Dl",
        "outputId": "9b3bb451-cb5f-4fc0-a378-08419ce850b5"
      },
      "source": [
        "#Nuestros datos a trabajar son\n",
        "df = pd.read_csv(\"Sept_20_analysis.csv\")\n",
        "#Visualizando tabla\n",
        "df.head(5)"
      ],
      "execution_count": 9,
      "outputs": [
        {
          "output_type": "execute_result",
          "data": {
            "text/html": [
              "<div>\n",
              "<style scoped>\n",
              "    .dataframe tbody tr th:only-of-type {\n",
              "        vertical-align: middle;\n",
              "    }\n",
              "\n",
              "    .dataframe tbody tr th {\n",
              "        vertical-align: top;\n",
              "    }\n",
              "\n",
              "    .dataframe thead th {\n",
              "        text-align: right;\n",
              "    }\n",
              "</style>\n",
              "<table border=\"1\" class=\"dataframe\">\n",
              "  <thead>\n",
              "    <tr style=\"text-align: right;\">\n",
              "      <th></th>\n",
              "      <th>GAME</th>\n",
              "      <th>BlackElo</th>\n",
              "      <th>BlackRatingDiff</th>\n",
              "      <th>Date</th>\n",
              "      <th>ECO</th>\n",
              "      <th>Event</th>\n",
              "      <th>Opening</th>\n",
              "      <th>Result</th>\n",
              "      <th>Site</th>\n",
              "      <th>Termination</th>\n",
              "      <th>TimeControl</th>\n",
              "      <th>UTCTime</th>\n",
              "      <th>WhiteElo</th>\n",
              "      <th>WhiteRatingDiff</th>\n",
              "      <th>Black_elo_category</th>\n",
              "      <th>White_elo_category</th>\n",
              "      <th>starting_time</th>\n",
              "      <th>increment</th>\n",
              "      <th>Game_type</th>\n",
              "      <th>Total_moves</th>\n",
              "      <th>Black_blunders</th>\n",
              "      <th>White_blunders</th>\n",
              "      <th>Black_mistakes</th>\n",
              "      <th>White_mistakes</th>\n",
              "      <th>Black_inaccuracies</th>\n",
              "      <th>White_inaccuracies</th>\n",
              "      <th>Black_inferior_moves</th>\n",
              "      <th>White_inferior_moves</th>\n",
              "      <th>Black_ts_moves</th>\n",
              "      <th>White_ts_moves</th>\n",
              "      <th>Black_ts_blunders</th>\n",
              "      <th>White_ts_blunders</th>\n",
              "      <th>Black_ts_mistakes</th>\n",
              "      <th>White_ts_mistake</th>\n",
              "      <th>Black_long_moves</th>\n",
              "      <th>White_long_moves</th>\n",
              "      <th>Black_bad_long_moves</th>\n",
              "      <th>White_bad_long_moves</th>\n",
              "      <th>Game_flips</th>\n",
              "      <th>Game_flips_ts</th>\n",
              "    </tr>\n",
              "  </thead>\n",
              "  <tbody>\n",
              "    <tr>\n",
              "      <th>0</th>\n",
              "      <td>11</td>\n",
              "      <td>1143</td>\n",
              "      <td>6.0</td>\n",
              "      <td>2020.09.01</td>\n",
              "      <td>A02</td>\n",
              "      <td>Rated Blitz game</td>\n",
              "      <td>Bird Opening</td>\n",
              "      <td>0-1</td>\n",
              "      <td>https://lichess.org/hjb8FYm1</td>\n",
              "      <td>Time forfeit</td>\n",
              "      <td>300+0</td>\n",
              "      <td>00:00:00</td>\n",
              "      <td>1180</td>\n",
              "      <td>-7.0</td>\n",
              "      <td>Low rating</td>\n",
              "      <td>Low rating</td>\n",
              "      <td>300.0</td>\n",
              "      <td>0.0</td>\n",
              "      <td>Blitz</td>\n",
              "      <td>66</td>\n",
              "      <td>4</td>\n",
              "      <td>2</td>\n",
              "      <td>0</td>\n",
              "      <td>3</td>\n",
              "      <td>3</td>\n",
              "      <td>1</td>\n",
              "      <td>7</td>\n",
              "      <td>6</td>\n",
              "      <td>8</td>\n",
              "      <td>8</td>\n",
              "      <td>0</td>\n",
              "      <td>0</td>\n",
              "      <td>0</td>\n",
              "      <td>0</td>\n",
              "      <td>2</td>\n",
              "      <td>1</td>\n",
              "      <td>1</td>\n",
              "      <td>1</td>\n",
              "      <td>8</td>\n",
              "      <td>0</td>\n",
              "    </tr>\n",
              "    <tr>\n",
              "      <th>1</th>\n",
              "      <td>14</td>\n",
              "      <td>1504</td>\n",
              "      <td>NaN</td>\n",
              "      <td>2020.09.01</td>\n",
              "      <td>A04</td>\n",
              "      <td>Rated Blitz game</td>\n",
              "      <td>Réti Opening</td>\n",
              "      <td>0-1</td>\n",
              "      <td>https://lichess.org/Iz2fbHuE</td>\n",
              "      <td>Normal</td>\n",
              "      <td>300+0</td>\n",
              "      <td>00:00:00</td>\n",
              "      <td>1381</td>\n",
              "      <td>NaN</td>\n",
              "      <td>Low rating</td>\n",
              "      <td>Low rating</td>\n",
              "      <td>300.0</td>\n",
              "      <td>0.0</td>\n",
              "      <td>Blitz</td>\n",
              "      <td>64</td>\n",
              "      <td>2</td>\n",
              "      <td>1</td>\n",
              "      <td>1</td>\n",
              "      <td>1</td>\n",
              "      <td>7</td>\n",
              "      <td>5</td>\n",
              "      <td>10</td>\n",
              "      <td>7</td>\n",
              "      <td>0</td>\n",
              "      <td>0</td>\n",
              "      <td>0</td>\n",
              "      <td>0</td>\n",
              "      <td>0</td>\n",
              "      <td>0</td>\n",
              "      <td>0</td>\n",
              "      <td>1</td>\n",
              "      <td>0</td>\n",
              "      <td>0</td>\n",
              "      <td>6</td>\n",
              "      <td>0</td>\n",
              "    </tr>\n",
              "    <tr>\n",
              "      <th>2</th>\n",
              "      <td>29</td>\n",
              "      <td>1933</td>\n",
              "      <td>1.0</td>\n",
              "      <td>2020.09.01</td>\n",
              "      <td>C41</td>\n",
              "      <td>Rated Blitz game</td>\n",
              "      <td>Philidor Defense</td>\n",
              "      <td>0-1</td>\n",
              "      <td>https://lichess.org/Cdj7flmY</td>\n",
              "      <td>Time forfeit</td>\n",
              "      <td>300+2</td>\n",
              "      <td>00:00:00</td>\n",
              "      <td>1485</td>\n",
              "      <td>-1.0</td>\n",
              "      <td>High rating</td>\n",
              "      <td>Low rating</td>\n",
              "      <td>300.0</td>\n",
              "      <td>2.0</td>\n",
              "      <td>Blitz</td>\n",
              "      <td>70</td>\n",
              "      <td>0</td>\n",
              "      <td>1</td>\n",
              "      <td>1</td>\n",
              "      <td>2</td>\n",
              "      <td>8</td>\n",
              "      <td>8</td>\n",
              "      <td>9</td>\n",
              "      <td>11</td>\n",
              "      <td>0</td>\n",
              "      <td>2</td>\n",
              "      <td>0</td>\n",
              "      <td>0</td>\n",
              "      <td>0</td>\n",
              "      <td>0</td>\n",
              "      <td>1</td>\n",
              "      <td>1</td>\n",
              "      <td>1</td>\n",
              "      <td>0</td>\n",
              "      <td>5</td>\n",
              "      <td>0</td>\n",
              "    </tr>\n",
              "    <tr>\n",
              "      <th>3</th>\n",
              "      <td>40</td>\n",
              "      <td>1710</td>\n",
              "      <td>10.0</td>\n",
              "      <td>2020.09.01</td>\n",
              "      <td>B23</td>\n",
              "      <td>Rated Blitz game</td>\n",
              "      <td>Sicilian Defense: Closed</td>\n",
              "      <td>0-1</td>\n",
              "      <td>https://lichess.org/WZQ9FEpD</td>\n",
              "      <td>Normal</td>\n",
              "      <td>180+2</td>\n",
              "      <td>00:00:00</td>\n",
              "      <td>2040</td>\n",
              "      <td>-11.0</td>\n",
              "      <td>Low rating</td>\n",
              "      <td>High rating</td>\n",
              "      <td>180.0</td>\n",
              "      <td>2.0</td>\n",
              "      <td>Blitz</td>\n",
              "      <td>86</td>\n",
              "      <td>4</td>\n",
              "      <td>2</td>\n",
              "      <td>1</td>\n",
              "      <td>5</td>\n",
              "      <td>3</td>\n",
              "      <td>4</td>\n",
              "      <td>8</td>\n",
              "      <td>11</td>\n",
              "      <td>18</td>\n",
              "      <td>0</td>\n",
              "      <td>4</td>\n",
              "      <td>0</td>\n",
              "      <td>0</td>\n",
              "      <td>0</td>\n",
              "      <td>3</td>\n",
              "      <td>1</td>\n",
              "      <td>1</td>\n",
              "      <td>0</td>\n",
              "      <td>8</td>\n",
              "      <td>1</td>\n",
              "    </tr>\n",
              "    <tr>\n",
              "      <th>4</th>\n",
              "      <td>55</td>\n",
              "      <td>1598</td>\n",
              "      <td>-1.0</td>\n",
              "      <td>2020.09.01</td>\n",
              "      <td>B03</td>\n",
              "      <td>Rated Rapid game</td>\n",
              "      <td>Alekhine Defense</td>\n",
              "      <td>1-0</td>\n",
              "      <td>https://lichess.org/ESlJl57U</td>\n",
              "      <td>Normal</td>\n",
              "      <td>600+0</td>\n",
              "      <td>00:00:00</td>\n",
              "      <td>2163</td>\n",
              "      <td>0.0</td>\n",
              "      <td>Low rating</td>\n",
              "      <td>High rating</td>\n",
              "      <td>600.0</td>\n",
              "      <td>0.0</td>\n",
              "      <td>Rapid</td>\n",
              "      <td>71</td>\n",
              "      <td>1</td>\n",
              "      <td>0</td>\n",
              "      <td>1</td>\n",
              "      <td>1</td>\n",
              "      <td>6</td>\n",
              "      <td>2</td>\n",
              "      <td>8</td>\n",
              "      <td>3</td>\n",
              "      <td>0</td>\n",
              "      <td>0</td>\n",
              "      <td>0</td>\n",
              "      <td>0</td>\n",
              "      <td>0</td>\n",
              "      <td>0</td>\n",
              "      <td>0</td>\n",
              "      <td>0</td>\n",
              "      <td>0</td>\n",
              "      <td>0</td>\n",
              "      <td>2</td>\n",
              "      <td>0</td>\n",
              "    </tr>\n",
              "  </tbody>\n",
              "</table>\n",
              "</div>"
            ],
            "text/plain": [
              "   GAME  BlackElo  ...  Game_flips Game_flips_ts\n",
              "0    11      1143  ...           8             0\n",
              "1    14      1504  ...           6             0\n",
              "2    29      1933  ...           5             0\n",
              "3    40      1710  ...           8             1\n",
              "4    55      1598  ...           2             0\n",
              "\n",
              "[5 rows x 40 columns]"
            ]
          },
          "metadata": {},
          "execution_count": 9
        }
      ]
    },
    {
      "cell_type": "code",
      "metadata": {
        "colab": {
          "base_uri": "https://localhost:8080/"
        },
        "id": "j4soNg0IuvGT",
        "outputId": "6529cc44-b4af-4fe5-e52c-96e3d1f780ff"
      },
      "source": [
        "#Vemos si hay datos nulos\n",
        "df.isnull().sum()"
      ],
      "execution_count": 10,
      "outputs": [
        {
          "output_type": "execute_result",
          "data": {
            "text/plain": [
              "GAME                        0\n",
              "BlackElo                    0\n",
              "BlackRatingDiff         13036\n",
              "Date                        0\n",
              "ECO                         0\n",
              "Event                       0\n",
              "Opening                     0\n",
              "Result                      0\n",
              "Site                        0\n",
              "Termination                 0\n",
              "TimeControl                 0\n",
              "UTCTime                     0\n",
              "WhiteElo                    0\n",
              "WhiteRatingDiff         13057\n",
              "Black_elo_category          0\n",
              "White_elo_category          0\n",
              "starting_time           10344\n",
              "increment               10344\n",
              "Game_type                   0\n",
              "Total_moves                 0\n",
              "Black_blunders              0\n",
              "White_blunders              0\n",
              "Black_mistakes              0\n",
              "White_mistakes              0\n",
              "Black_inaccuracies          0\n",
              "White_inaccuracies          0\n",
              "Black_inferior_moves        0\n",
              "White_inferior_moves        0\n",
              "Black_ts_moves              0\n",
              "White_ts_moves              0\n",
              "Black_ts_blunders           0\n",
              "White_ts_blunders           0\n",
              "Black_ts_mistakes           0\n",
              "White_ts_mistake            0\n",
              "Black_long_moves            0\n",
              "White_long_moves            0\n",
              "Black_bad_long_moves        0\n",
              "White_bad_long_moves        0\n",
              "Game_flips                  0\n",
              "Game_flips_ts               0\n",
              "dtype: int64"
            ]
          },
          "metadata": {},
          "execution_count": 10
        }
      ]
    },
    {
      "cell_type": "markdown",
      "metadata": {
        "id": "fAOJJ5Iquy_q"
      },
      "source": [
        "Vemos que esta base de datos cuenta con bastante información interesante, pero en nuestro caso, nos enfocamos en movimientos, aperturas y los mismos errores de los jugadores, por lo que columnas como la diferencia de rating y la de los tiempos de juego no son de interés, además de que cuentan con datos nulos y nos quitaríamos un problema. Además de estas columnas, hay otras mas que no tienen mucha información, como el ID del juego o la fecha del mismo, por lo que igual se considerarian a eliminar. Entonces, con el criterio de eliminar columnas que no contengan información relevante, que no aportan a nuestros objetivos y que tengan datos nulos, procedemos a eliminar estas columnas, además de renombrar las que se conservan por temas de practicidad en el futuro. Además, realizaremos una copia de los datos en un CSV para alivianar el peso de la base de datos, ya que la original cuenta con bastantes datos, y aminorar el peso del mismo nos ayudará en un futuro.  \n",
        "Para mayor profundidad, estas son las razones de las eliminaciones de las columnas:  \n",
        "* **GAME, Date, Site:** Tanto fechas como ID del juego y el donde encontrarlo no son importantes.  \n",
        "* **BlackRatingDiff, WhiteRatingDiff:** Pueden sacarse a mano, además de que no aporta a nuestros objetivos.  \n",
        "* **starting_time, increment, TimeControl:** Nos enfocamos a los movimientos, no al tiempo de juego de los jugadores.  \n",
        "* **UTCTime, ECO:** No revela información importante para nuestros objetivos.  \n",
        "* **Black_inferior_moves, White_inferior_moves, Black_ts_moves, White_ts_moves, Black_ts_blunders, White_ts_blunders, Black_ts_mistakes, White_ts_mistake, Black_long_moves, White_long_moves, Black_bad_long_moves, White_bad_long_moves, Game_flips_ts:** Nos enfocamos en los errores estándares.\n",
        "* **Event:** Para eso está la columna de Game_Type."
      ]
    },
    {
      "cell_type": "code",
      "metadata": {
        "colab": {
          "base_uri": "https://localhost:8080/",
          "height": 330
        },
        "id": "PeA1ytqev8z0",
        "outputId": "eb11e8d1-5553-44af-a065-2fa11bdc1854"
      },
      "source": [
        "#Eliminación de columnas\n",
        "df2=df.drop({'GAME','BlackRatingDiff','Date','ECO','Site','UTCTime','WhiteRatingDiff','starting_time','increment',\n",
        "                 'Black_inferior_moves', 'White_inferior_moves', 'Black_ts_moves','White_ts_moves','Black_ts_blunders', \n",
        "                 'White_ts_blunders','TimeControl','Black_ts_mistakes', 'White_ts_mistake', 'Black_long_moves','White_long_moves',\n",
        "                 'Black_bad_long_moves','Event', 'White_bad_long_moves','Game_flips_ts'},axis = 1 )\n",
        "#Cambiaremos los nombres de inglés a español\n",
        "df2=df2.rename(columns = {'Opening':'Apertura','Result':'Resultado','Termination':'Terminacion',\n",
        "                                    'Black_elo_category':'Categoria_Negras',\n",
        "                                    'White_elo_category':'Categoria_Blancas','Game_type':'Tipo_juego',\n",
        "                                    'Total_moves':'Movimientos','Black_blunders':'Negras_Metedura_de_patas',\n",
        "                                    'White_blunders':'Blancas_Metedura_de_patas','Black_mistakes':'Negras_Errores',\n",
        "                                    'White_mistakes':'Blancas_Errores','Black_inaccuracies':'Negras_Imprecision',\n",
        "                                    'White_inaccuracies':'Blancas_Imprecision','Game_flips':'Juego_Vueltas',})\n",
        "#Guardar el archivo en un csv nuevo para futuros trabajos\n",
        "df2.to_csv(\"Base_Principal_Modificada.csv\", index=False)\n",
        "df2.head(5)"
      ],
      "execution_count": 11,
      "outputs": [
        {
          "output_type": "execute_result",
          "data": {
            "text/html": [
              "<div>\n",
              "<style scoped>\n",
              "    .dataframe tbody tr th:only-of-type {\n",
              "        vertical-align: middle;\n",
              "    }\n",
              "\n",
              "    .dataframe tbody tr th {\n",
              "        vertical-align: top;\n",
              "    }\n",
              "\n",
              "    .dataframe thead th {\n",
              "        text-align: right;\n",
              "    }\n",
              "</style>\n",
              "<table border=\"1\" class=\"dataframe\">\n",
              "  <thead>\n",
              "    <tr style=\"text-align: right;\">\n",
              "      <th></th>\n",
              "      <th>BlackElo</th>\n",
              "      <th>Apertura</th>\n",
              "      <th>Resultado</th>\n",
              "      <th>Terminacion</th>\n",
              "      <th>WhiteElo</th>\n",
              "      <th>Categoria_Negras</th>\n",
              "      <th>Categoria_Blancas</th>\n",
              "      <th>Tipo_juego</th>\n",
              "      <th>Movimientos</th>\n",
              "      <th>Negras_Metedura_de_patas</th>\n",
              "      <th>Blancas_Metedura_de_patas</th>\n",
              "      <th>Negras_Errores</th>\n",
              "      <th>Blancas_Errores</th>\n",
              "      <th>Negras_Imprecision</th>\n",
              "      <th>Blancas_Imprecision</th>\n",
              "      <th>Juego_Vueltas</th>\n",
              "    </tr>\n",
              "  </thead>\n",
              "  <tbody>\n",
              "    <tr>\n",
              "      <th>0</th>\n",
              "      <td>1143</td>\n",
              "      <td>Bird Opening</td>\n",
              "      <td>0-1</td>\n",
              "      <td>Time forfeit</td>\n",
              "      <td>1180</td>\n",
              "      <td>Low rating</td>\n",
              "      <td>Low rating</td>\n",
              "      <td>Blitz</td>\n",
              "      <td>66</td>\n",
              "      <td>4</td>\n",
              "      <td>2</td>\n",
              "      <td>0</td>\n",
              "      <td>3</td>\n",
              "      <td>3</td>\n",
              "      <td>1</td>\n",
              "      <td>8</td>\n",
              "    </tr>\n",
              "    <tr>\n",
              "      <th>1</th>\n",
              "      <td>1504</td>\n",
              "      <td>Réti Opening</td>\n",
              "      <td>0-1</td>\n",
              "      <td>Normal</td>\n",
              "      <td>1381</td>\n",
              "      <td>Low rating</td>\n",
              "      <td>Low rating</td>\n",
              "      <td>Blitz</td>\n",
              "      <td>64</td>\n",
              "      <td>2</td>\n",
              "      <td>1</td>\n",
              "      <td>1</td>\n",
              "      <td>1</td>\n",
              "      <td>7</td>\n",
              "      <td>5</td>\n",
              "      <td>6</td>\n",
              "    </tr>\n",
              "    <tr>\n",
              "      <th>2</th>\n",
              "      <td>1933</td>\n",
              "      <td>Philidor Defense</td>\n",
              "      <td>0-1</td>\n",
              "      <td>Time forfeit</td>\n",
              "      <td>1485</td>\n",
              "      <td>High rating</td>\n",
              "      <td>Low rating</td>\n",
              "      <td>Blitz</td>\n",
              "      <td>70</td>\n",
              "      <td>0</td>\n",
              "      <td>1</td>\n",
              "      <td>1</td>\n",
              "      <td>2</td>\n",
              "      <td>8</td>\n",
              "      <td>8</td>\n",
              "      <td>5</td>\n",
              "    </tr>\n",
              "    <tr>\n",
              "      <th>3</th>\n",
              "      <td>1710</td>\n",
              "      <td>Sicilian Defense: Closed</td>\n",
              "      <td>0-1</td>\n",
              "      <td>Normal</td>\n",
              "      <td>2040</td>\n",
              "      <td>Low rating</td>\n",
              "      <td>High rating</td>\n",
              "      <td>Blitz</td>\n",
              "      <td>86</td>\n",
              "      <td>4</td>\n",
              "      <td>2</td>\n",
              "      <td>1</td>\n",
              "      <td>5</td>\n",
              "      <td>3</td>\n",
              "      <td>4</td>\n",
              "      <td>8</td>\n",
              "    </tr>\n",
              "    <tr>\n",
              "      <th>4</th>\n",
              "      <td>1598</td>\n",
              "      <td>Alekhine Defense</td>\n",
              "      <td>1-0</td>\n",
              "      <td>Normal</td>\n",
              "      <td>2163</td>\n",
              "      <td>Low rating</td>\n",
              "      <td>High rating</td>\n",
              "      <td>Rapid</td>\n",
              "      <td>71</td>\n",
              "      <td>1</td>\n",
              "      <td>0</td>\n",
              "      <td>1</td>\n",
              "      <td>1</td>\n",
              "      <td>6</td>\n",
              "      <td>2</td>\n",
              "      <td>2</td>\n",
              "    </tr>\n",
              "  </tbody>\n",
              "</table>\n",
              "</div>"
            ],
            "text/plain": [
              "   BlackElo                  Apertura  ... Blancas_Imprecision Juego_Vueltas\n",
              "0      1143              Bird Opening  ...                   1             8\n",
              "1      1504              Réti Opening  ...                   5             6\n",
              "2      1933          Philidor Defense  ...                   8             5\n",
              "3      1710  Sicilian Defense: Closed  ...                   4             8\n",
              "4      1598          Alekhine Defense  ...                   2             2\n",
              "\n",
              "[5 rows x 16 columns]"
            ]
          },
          "metadata": {},
          "execution_count": 11
        }
      ]
    },
    {
      "cell_type": "markdown",
      "metadata": {
        "id": "43FtIxMYxkUx"
      },
      "source": [
        "El nombre o datos en cadenas de caracteres se quedarán en su idioma original (Inglés), debido a ser un lenguaje universal estandar dentro del ajedrez. A pesar de estar en su idioma, dentro de los análisis de traducirán según su conveniencia.  \n",
        "**ESTADISTICA BÁSICA**  \n",
        "Ahora realizaremos, de forma descriptiva, nuestra base de datos. Primero hablaremos de las columnas que tengan datos en forma de cadenas de caracteres, para después seguir con los numéricos, los cuales tendrán un análisis más profundo."
      ]
    },
    {
      "cell_type": "code",
      "metadata": {
        "colab": {
          "base_uri": "https://localhost:8080/"
        },
        "id": "NPHm1Rq801IP",
        "outputId": "2aff2fe6-0353-46f7-9791-0b75f6e25197"
      },
      "source": [
        "df2['Apertura'].describe()"
      ],
      "execution_count": 12,
      "outputs": [
        {
          "output_type": "execute_result",
          "data": {
            "text/plain": [
              "count                             3739909\n",
              "unique                               2790\n",
              "top       Queen's Pawn Game: Mason Attack\n",
              "freq                                76214\n",
              "Name: Apertura, dtype: object"
            ]
          },
          "metadata": {},
          "execution_count": 12
        }
      ]
    },
    {
      "cell_type": "markdown",
      "metadata": {
        "id": "APwkcUAw4a-_"
      },
      "source": [
        "Vemos que en cuestión de aperturas, se registraron al menos 2,790 aperturas diferentes, de la cual, la mas jugada es \"Queen's Pawn Game: Mason Attack\"."
      ]
    },
    {
      "cell_type": "code",
      "metadata": {
        "colab": {
          "base_uri": "https://localhost:8080/"
        },
        "id": "RtmydnHJ2rk0",
        "outputId": "bd44a5c5-5094-4d25-e204-15e9060960ed"
      },
      "source": [
        "df2['Resultado'].describe()"
      ],
      "execution_count": 24,
      "outputs": [
        {
          "output_type": "stream",
          "name": "stdout",
          "text": [
            "count     3739909\n",
            "unique          4\n",
            "top           1-0\n",
            "freq      1863894\n",
            "Name: Resultado, dtype: object\n"
          ]
        }
      ]
    },
    {
      "cell_type": "code",
      "metadata": {
        "colab": {
          "base_uri": "https://localhost:8080/"
        },
        "id": "ZLjRGcRv3IGl",
        "outputId": "637843ba-0930-4d47-f910-ad3f52693658"
      },
      "source": [
        "df2['Resultado'].unique()"
      ],
      "execution_count": 26,
      "outputs": [
        {
          "output_type": "execute_result",
          "data": {
            "text/plain": [
              "array(['0-1', '1-0', '1/2-1/2', '*'], dtype=object)"
            ]
          },
          "metadata": {},
          "execution_count": 26
        }
      ]
    },
    {
      "cell_type": "markdown",
      "metadata": {
        "id": "N1oOAtJk4o7S"
      },
      "source": [
        "En cuestión de los resultados, sabemos que estos son declarar un ganador, ya sea 0-1 (Gana negras) o 1-0 (Gana blancas), pero igualmente hay empates (1/2-1/2) y abandonos o juegos con fallos ('*'), y por lo que vemos, los resultados mencionan que las blancas ganan con mayor frecuencia."
      ]
    },
    {
      "cell_type": "code",
      "metadata": {
        "colab": {
          "base_uri": "https://localhost:8080/"
        },
        "id": "A8jDn2lE2rvY",
        "outputId": "56c879c2-796b-4663-bcf1-a454dad456f3"
      },
      "source": [
        "df2['Terminacion'].describe()"
      ],
      "execution_count": 22,
      "outputs": [
        {
          "output_type": "execute_result",
          "data": {
            "text/plain": [
              "count     3739909\n",
              "unique          4\n",
              "top        Normal\n",
              "freq      2869458\n",
              "Name: Terminacion, dtype: object"
            ]
          },
          "metadata": {},
          "execution_count": 22
        }
      ]
    },
    {
      "cell_type": "code",
      "metadata": {
        "colab": {
          "base_uri": "https://localhost:8080/"
        },
        "id": "-0Zi0pLp2ryt",
        "outputId": "a3e6a9f5-a7ac-44a8-cbc5-cfcef4f153d9"
      },
      "source": [
        "df2['Terminacion'].unique()"
      ],
      "execution_count": 23,
      "outputs": [
        {
          "output_type": "execute_result",
          "data": {
            "text/plain": [
              "array(['Time forfeit', 'Normal', 'Rules infraction', 'Abandoned'],\n",
              "      dtype=object)"
            ]
          },
          "metadata": {},
          "execution_count": 23
        }
      ]
    },
    {
      "cell_type": "markdown",
      "metadata": {
        "id": "Tj_LwVqM5LvO"
      },
      "source": [
        "De la mano con los resultados, la forma en como estos son determinados son importantes. Vemos que pueden ser por tiempo, de forma normal, por infracciones o abandonos, y que lo más frecuente es que se determine un ganador o empate de forma normal, es decir, con algún \"JAQUE MATE\", que algún jugador se rinda o que ambos pacten el empate."
      ]
    },
    {
      "cell_type": "code",
      "metadata": {
        "colab": {
          "base_uri": "https://localhost:8080/"
        },
        "id": "Mk6mXmfo2r1e",
        "outputId": "230d5a7b-91c7-4b2c-e88a-1a0d79c492bd"
      },
      "source": [
        "print(df2['Categoria_Blancas'].describe(),'\\n')\n",
        "print(df2['Categoria_Negras'].describe())"
      ],
      "execution_count": 28,
      "outputs": [
        {
          "output_type": "stream",
          "name": "stdout",
          "text": [
            "count        3739909\n",
            "unique             3\n",
            "top       Low rating\n",
            "freq         2993539\n",
            "Name: Categoria_Blancas, dtype: object \n",
            "\n",
            "count        3739909\n",
            "unique             3\n",
            "top       Low rating\n",
            "freq         2991089\n",
            "Name: Categoria_Negras, dtype: object\n"
          ]
        }
      ]
    },
    {
      "cell_type": "code",
      "metadata": {
        "colab": {
          "base_uri": "https://localhost:8080/"
        },
        "id": "eRq98a785yud",
        "outputId": "1533181d-b37d-4efd-c362-d997a7764312"
      },
      "source": [
        "df2['Categoria_Blancas'].unique()"
      ],
      "execution_count": 32,
      "outputs": [
        {
          "output_type": "execute_result",
          "data": {
            "text/plain": [
              "array(['Low rating', 'High rating', 'GM rating'], dtype=object)"
            ]
          },
          "metadata": {},
          "execution_count": 32
        }
      ]
    },
    {
      "cell_type": "markdown",
      "metadata": {
        "id": "4ysAzPeN5qgX"
      },
      "source": [
        "Recordando que los jugadores tienen categorías, estas van desde el \"LOW RATING\", \"HIGH RATING\" y \"GM RATING\", y vemos que, tanto jugadores de blancas como negras, se situan en el \"LOW RATING\", lo cual es de esperarse, ya que subir a los demas ratings requieren mayor expertis en el juego, y seguramente muchos de los jugadores lo hacen por hobbie."
      ]
    },
    {
      "cell_type": "code",
      "metadata": {
        "colab": {
          "base_uri": "https://localhost:8080/"
        },
        "id": "jiqtVVEk3jnO",
        "outputId": "46cfd3c0-2393-44bc-e9a7-8620ae68c1d7"
      },
      "source": [
        "df2['Tipo_juego'].describe()"
      ],
      "execution_count": 30,
      "outputs": [
        {
          "output_type": "execute_result",
          "data": {
            "text/plain": [
              "count     3739909\n",
              "unique          5\n",
              "top         Blitz\n",
              "freq      1812120\n",
              "Name: Tipo_juego, dtype: object"
            ]
          },
          "metadata": {},
          "execution_count": 30
        }
      ]
    },
    {
      "cell_type": "code",
      "metadata": {
        "colab": {
          "base_uri": "https://localhost:8080/"
        },
        "id": "_kd6D7Kp3pey",
        "outputId": "cbc004c8-f3ae-48c3-dc78-11bf48a105f6"
      },
      "source": [
        "df2['Tipo_juego'].unique()"
      ],
      "execution_count": 31,
      "outputs": [
        {
          "output_type": "execute_result",
          "data": {
            "text/plain": [
              "array(['Blitz', 'Rapid', 'Bullet', 'Classical', 'Correspondence'],\n",
              "      dtype=object)"
            ]
          },
          "metadata": {},
          "execution_count": 31
        }
      ]
    },
    {
      "cell_type": "markdown",
      "metadata": {
        "id": "XJjaPUnu6V1o"
      },
      "source": [
        "Igualmente vemos que el modo/tipo de juego favorito es erl \"BLITZ\", esto puede deberse a que este modo es rápido, y más amigable o interesante para los jugadores.  \n",
        "Ahora pasaremos a los datos numéricos:"
      ]
    },
    {
      "cell_type": "code",
      "metadata": {
        "colab": {
          "base_uri": "https://localhost:8080/"
        },
        "id": "SP01kglN6wgw",
        "outputId": "e0cea104-61fe-47a6-9812-295ee8a3db1b"
      },
      "source": [
        "print(df2['BlackElo'].describe(), '\\n')\n",
        "print('Varianza: ', df2['BlackElo'].var(), '\\n')\n",
        "print('Desviación estandar: ', df2['BlackElo'].std(), '\\n')\n",
        "print(\"Simetría de los datos:\", df2['BlackElo'].skew(), \"\\n\")\n",
        "print(\"Curtosis\", df2['BlackElo'].kurt())"
      ],
      "execution_count": 36,
      "outputs": [
        {
          "output_type": "stream",
          "name": "stdout",
          "text": [
            "count    3.739909e+06\n",
            "mean     1.602300e+03\n",
            "std      3.435793e+02\n",
            "min      6.000000e+02\n",
            "25%      1.354000e+03\n",
            "50%      1.593000e+03\n",
            "75%      1.841000e+03\n",
            "max      3.957000e+03\n",
            "Name: BlackElo, dtype: float64 \n",
            "\n",
            "Varianza:  118046.76030488501 \n",
            "\n",
            "Desviación estandar:  343.57933626003324 \n",
            "\n",
            "Simetría de los datos: 0.1607547371835947 \n",
            "\n",
            "Curtosis -0.24272112523246037\n"
          ]
        }
      ]
    },
    {
      "cell_type": "markdown",
      "metadata": {
        "id": "z9xezF8H7ngL"
      },
      "source": [
        "Vemos que el jugador de negras con menor elo es de 600 y el de mayor elo es de 3957, además la desviación estandar indica que hay mucha dispersión, por lo que los jugadores son muy variados. Además el coeficiente de simetría podría indicar que estos datos tienen algún tipo de simetría, por lo que podrían estar bien repartidos los jugadores, esto reforzado por la curtosis, que nos dice que muchos jugadores no se alejan de la media."
      ]
    },
    {
      "cell_type": "code",
      "metadata": {
        "colab": {
          "base_uri": "https://localhost:8080/"
        },
        "id": "K9XpN3EK8W4k",
        "outputId": "c6f50b49-2beb-4aae-ffa8-a9f4bf8c5a45"
      },
      "source": [
        "print(df2['WhiteElo'].describe(), '\\n')\n",
        "print('Varianza: ', df2['WhiteElo'].var(), '\\n')\n",
        "print('Desviación estandar: ', df2['WhiteElo'].std(), '\\n')\n",
        "print(\"Simetría de los datos:\", df2['WhiteElo'].skew(), \"\\n\")\n",
        "print(\"Curtosis\", df2['WhiteElo'].kurt())"
      ],
      "execution_count": 37,
      "outputs": [
        {
          "output_type": "stream",
          "name": "stdout",
          "text": [
            "count    3.739909e+06\n",
            "mean     1.601512e+03\n",
            "std      3.435898e+02\n",
            "min      6.000000e+02\n",
            "25%      1.353000e+03\n",
            "50%      1.592000e+03\n",
            "75%      1.840000e+03\n",
            "max      3.958000e+03\n",
            "Name: WhiteElo, dtype: float64 \n",
            "\n",
            "Varianza:  118053.94356861341 \n",
            "\n",
            "Desviación estandar:  343.5897896745673 \n",
            "\n",
            "Simetría de los datos: 0.15853401134895811 \n",
            "\n",
            "Curtosis -0.24096420125435936\n"
          ]
        }
      ]
    },
    {
      "cell_type": "markdown",
      "metadata": {
        "id": "x3AAKn5U8c_p"
      },
      "source": [
        "Vemos que el jugador de blancas con menor elo es de 600 y el de mayor elo es de 3958, además la desviación estandar indica que hay mucha dispersión, por lo que los jugadores son muy variados. Además el coeficiente de simetría podría indicar que estos datos tienen algún tipo de simetría, al igual que con los jugadores de negras, por lo que podrían estar bien repartidos los jugadores, esto reforzado por la curtosis, que nos dice que muchos jugadores no se alejan de la media."
      ]
    },
    {
      "cell_type": "code",
      "metadata": {
        "colab": {
          "base_uri": "https://localhost:8080/"
        },
        "id": "hlnFJ2TL81or",
        "outputId": "085424f0-d341-4e10-cac3-d443463d2b4a"
      },
      "source": [
        "print(df2['Movimientos'].describe(), '\\n')\n",
        "print('Varianza: ', df2['Movimientos'].var(), '\\n')\n",
        "print('Desviación estandar: ', df2['Movimientos'].std(), '\\n')\n",
        "print(\"Simetría de los datos:\", df2['Movimientos'].skew(), \"\\n\")\n",
        "print(\"Curtosis\", df2['Movimientos'].kurt())"
      ],
      "execution_count": 40,
      "outputs": [
        {
          "output_type": "stream",
          "name": "stdout",
          "text": [
            "count    3.739909e+06\n",
            "mean     6.402238e+01\n",
            "std      2.672077e+01\n",
            "min      1.000000e+00\n",
            "25%      4.600000e+01\n",
            "50%      5.900000e+01\n",
            "75%      7.700000e+01\n",
            "max      3.530000e+02\n",
            "Name: Movimientos, dtype: float64 \n",
            "\n",
            "Varianza:  713.9995436050986 \n",
            "\n",
            "Desviación estandar:  26.720769891698453 \n",
            "\n",
            "Simetría de los datos: 1.2389245621873834 \n",
            "\n",
            "Curtosis 2.53195619347439\n"
          ]
        }
      ]
    },
    {
      "cell_type": "markdown",
      "metadata": {
        "id": "3CQRZ6Xy9B1M"
      },
      "source": [
        "Vemos que hay juegos que solamente hubo 1 movimiento, popsiblemente ganando blancas por abandono, y juegos más largos de hasta 353 movimientos. Además, el coeficiente de simetría indica que hay asimetría positiva, por lo que los juegos con \"muchos\" movimientos son los menos frecuentes, además, la curtosis indica que muchos de los juegos tienen muvimientos alejados de la media, el cual es 64 movimientos por fuejo, por lo que podríamos esperar que hay tanto juegos que terminan muy rápido como juegos que se alargan, habiendo variedad en los mismos."
      ]
    },
    {
      "cell_type": "code",
      "metadata": {
        "colab": {
          "base_uri": "https://localhost:8080/"
        },
        "id": "q2zka2WPMU_F",
        "outputId": "60d3ee1f-4536-408e-dbca-80e84fa33a9a"
      },
      "source": [
        "print(df2['Negras_Metedura_de_patas'].describe(), '\\n')\n",
        "print('Varianza: ', df2['Negras_Metedura_de_patas'].var(), '\\n')\n",
        "print('Desviación estandar: ', df2['Negras_Metedura_de_patas'].std(), '\\n')\n",
        "print(\"Simetría de los datos:\", df2['Negras_Metedura_de_patas'].skew(), \"\\n\")\n",
        "print(\"Curtosis\", df2['Negras_Metedura_de_patas'].kurt(),'\\n\\n\\n')\n",
        "print(df2['Blancas_Metedura_de_patas'].describe(), '\\n')\n",
        "print('Varianza: ', df2['Blancas_Metedura_de_patas'].var(), '\\n')\n",
        "print('Desviación estandar: ', df2['Blancas_Metedura_de_patas'].std(), '\\n')\n",
        "print(\"Simetría de los datos:\", df2['Blancas_Metedura_de_patas'].skew(), \"\\n\")\n",
        "print(\"Curtosis\", df2['Blancas_Metedura_de_patas'].kurt(),'\\n\\n\\n')"
      ],
      "execution_count": 41,
      "outputs": [
        {
          "output_type": "stream",
          "name": "stdout",
          "text": [
            "count    3.739909e+06\n",
            "mean     2.042054e+00\n",
            "std      1.961390e+00\n",
            "min      0.000000e+00\n",
            "25%      1.000000e+00\n",
            "50%      2.000000e+00\n",
            "75%      3.000000e+00\n",
            "max      3.200000e+01\n",
            "Name: Negras_Metedura_de_patas, dtype: float64 \n",
            "\n",
            "Varianza:  3.847050449537979 \n",
            "\n",
            "Desviación estandar:  1.9613899279689337 \n",
            "\n",
            "Simetría de los datos: 1.674330907406602 \n",
            "\n",
            "Curtosis 4.876140396669593 \n",
            "\n",
            "\n",
            "\n",
            "count    3.739909e+06\n",
            "mean     2.021308e+00\n",
            "std      1.974633e+00\n",
            "min      0.000000e+00\n",
            "25%      1.000000e+00\n",
            "50%      2.000000e+00\n",
            "75%      3.000000e+00\n",
            "max      3.600000e+01\n",
            "Name: Blancas_Metedura_de_patas, dtype: float64 \n",
            "\n",
            "Varianza:  3.899174237081576 \n",
            "\n",
            "Desviación estandar:  1.974632684091291 \n",
            "\n",
            "Simetría de los datos: 1.675853812170047 \n",
            "\n",
            "Curtosis 4.8391136230259 \n",
            "\n",
            "\n",
            "\n"
          ]
        }
      ]
    },
    {
      "cell_type": "markdown",
      "metadata": {
        "id": "FCOI-LWtMlxc"
      },
      "source": [
        "En cuestión de las \"Meteduras de patas\", estas parecen comportarse de manera similar tanto para blancas como negras. Ambos tienen disviaciones muy pequeñas y mínimos de 0 \"Meteduras de patas\", pero el máximo de \"meteduras de patas\" de negras y blancas son de 39 y 36 respectivamente. Además, en ambos casos cuentan con asimetría positiva y curtosis demasiado altas, por lo que los juegos, por lo general, deben tener pocas \"meteduras de pata\", miestras que los juegos que tienen grandes cantidades, como 36 o 39 \"meteduras de patas\", son juegos muy atípicos."
      ]
    },
    {
      "cell_type": "code",
      "metadata": {
        "colab": {
          "base_uri": "https://localhost:8080/"
        },
        "id": "8pZucQzOOn58",
        "outputId": "57d3b6c2-bba0-4e30-d466-9a4e126de071"
      },
      "source": [
        "print(df2['Negras_Errores'].describe(), '\\n')\n",
        "print('Varianza: ', df2['Negras_Errores'].var(), '\\n')\n",
        "print('Desviación estandar: ', df2['Negras_Errores'].std(), '\\n')\n",
        "print(\"Simetría de los datos:\", df2['Negras_Errores'].skew(), \"\\n\")\n",
        "print(\"Curtosis\", df2['Negras_Errores'].kurt(),'\\n\\n\\n')\n",
        "print(df2['Blancas_Errores'].describe(), '\\n')\n",
        "print('Varianza: ', df2['Blancas_Errores'].var(), '\\n')\n",
        "print('Desviación estandar: ', df2['Blancas_Errores'].std(), '\\n')\n",
        "print(\"Simetría de los datos:\", df2['Blancas_Errores'].skew(), \"\\n\")\n",
        "print(\"Curtosis\", df2['Blancas_Errores'].kurt(),'\\n\\n\\n')"
      ],
      "execution_count": 42,
      "outputs": [
        {
          "output_type": "stream",
          "name": "stdout",
          "text": [
            "count    3.739909e+06\n",
            "mean     3.081397e+00\n",
            "std      2.334158e+00\n",
            "min      0.000000e+00\n",
            "25%      1.000000e+00\n",
            "50%      3.000000e+00\n",
            "75%      4.000000e+00\n",
            "max      2.800000e+01\n",
            "Name: Negras_Errores, dtype: float64 \n",
            "\n",
            "Varianza:  5.448291348161977 \n",
            "\n",
            "Desviación estandar:  2.334157524281936 \n",
            "\n",
            "Simetría de los datos: 0.9773190867942845 \n",
            "\n",
            "Curtosis 1.2462225923675274 \n",
            "\n",
            "\n",
            "\n",
            "count    3.739909e+06\n",
            "mean     3.070554e+00\n",
            "std      2.347220e+00\n",
            "min      0.000000e+00\n",
            "25%      1.000000e+00\n",
            "50%      3.000000e+00\n",
            "75%      4.000000e+00\n",
            "max      3.900000e+01\n",
            "Name: Blancas_Errores, dtype: float64 \n",
            "\n",
            "Varianza:  5.509439656787787 \n",
            "\n",
            "Desviación estandar:  2.3472195587093654 \n",
            "\n",
            "Simetría de los datos: 0.9782795202378635 \n",
            "\n",
            "Curtosis 1.231731956408097 \n",
            "\n",
            "\n",
            "\n"
          ]
        }
      ]
    },
    {
      "cell_type": "markdown",
      "metadata": {
        "id": "YS3HW5j8O4iP"
      },
      "source": [
        "De igual manera que con las \"Meteduras de patas\", los \"errores\" estas parecen comportarse de manera similar tanto para blancas como negras. Ambos tienen disviaciones muy pequeñas y mínimos de 0 \"errores\" , pero el máximo de \"errores\"  de negras y blancas son de 39 y 40 respectivamente. Además, en ambos casos cuentan con asimetría positiva y curtosis ligeramente elevadas, por lo que los juegos, por lo general, deben tener pocos \"errores\" , miestras que los juegos que tienen grandes cantidades, como 39 o 40 \"errores\" , son juegos muy atípicos."
      ]
    },
    {
      "cell_type": "code",
      "metadata": {
        "colab": {
          "base_uri": "https://localhost:8080/"
        },
        "id": "qhRnoA0vPWnt",
        "outputId": "cbb3904c-54ac-4ad4-e916-7e7125b8f2c8"
      },
      "source": [
        "print(df2['Negras_Imprecision'].describe(), '\\n')\n",
        "print('Varianza: ', df2['Negras_Imprecision'].var(), '\\n')\n",
        "print('Desviación estandar: ', df2['Negras_Imprecision'].std(), '\\n')\n",
        "print(\"Simetría de los datos:\", df2['Negras_Imprecision'].skew(), \"\\n\")\n",
        "print(\"Curtosis\", df2['Negras_Imprecision'].kurt(),'\\n\\n\\n')\n",
        "print(df2['Blancas_Imprecision'].describe(), '\\n')\n",
        "print('Varianza: ', df2['Blancas_Imprecision'].var(), '\\n')\n",
        "print('Desviación estandar: ', df2['Blancas_Imprecision'].std(), '\\n')\n",
        "print(\"Simetría de los datos:\", df2['Blancas_Imprecision'].skew(), \"\\n\")\n",
        "print(\"Curtosis\", df2['Blancas_Imprecision'].kurt(),'\\n\\n\\n')"
      ],
      "execution_count": 43,
      "outputs": [
        {
          "output_type": "stream",
          "name": "stdout",
          "text": [
            "count    3.739909e+06\n",
            "mean     2.893094e+00\n",
            "std      2.035020e+00\n",
            "min      0.000000e+00\n",
            "25%      1.000000e+00\n",
            "50%      3.000000e+00\n",
            "75%      4.000000e+00\n",
            "max      2.300000e+01\n",
            "Name: Negras_Imprecision, dtype: float64 \n",
            "\n",
            "Varianza:  4.141308381840579 \n",
            "\n",
            "Desviación estandar:  2.0350204868355943 \n",
            "\n",
            "Simetría de los datos: 0.9051260324627162 \n",
            "\n",
            "Curtosis 1.1415605305994512 \n",
            "\n",
            "\n",
            "\n",
            "count    3.739909e+06\n",
            "mean     2.794539e+00\n",
            "std      2.039361e+00\n",
            "min      0.000000e+00\n",
            "25%      1.000000e+00\n",
            "50%      2.000000e+00\n",
            "75%      4.000000e+00\n",
            "max      2.700000e+01\n",
            "Name: Blancas_Imprecision, dtype: float64 \n",
            "\n",
            "Varianza:  4.158993705566677 \n",
            "\n",
            "Desviación estandar:  2.039361102298138 \n",
            "\n",
            "Simetría de los datos: 0.9256483983264125 \n",
            "\n",
            "Curtosis 1.1568794000626546 \n",
            "\n",
            "\n",
            "\n"
          ]
        }
      ]
    },
    {
      "cell_type": "markdown",
      "metadata": {
        "id": "ocmCnn9iPikH"
      },
      "source": [
        "Al igual que con los anteriores movimientos, las \"impresiciones\" parecen comportarse de manera similar tanto para blancas como negras. Ambos tienen disviaciones muy pequeñas y mínimos de 0 \"impresiciones\", pero el máximo de \"impresiciones\"  de negras y blancas son de 23 y 27 respectivamente. Además, en ambos casos cuentan con asimetría positiva y curtosis ligeramente elevadas, por lo que los juegos, por lo general, deben tener pocos \"impresiciones\", miestras que los juegos que tienen grandes cantidades, como 39 o 40 \"impresiciones\", son juegos muy atípicos."
      ]
    },
    {
      "cell_type": "code",
      "metadata": {
        "colab": {
          "base_uri": "https://localhost:8080/"
        },
        "id": "E5zoyPHGQA8c",
        "outputId": "73641797-4876-4f31-a324-aa1b8d3615fc"
      },
      "source": [
        "print(df2['Juego_Vueltas'].describe(), '\\n')\n",
        "print('Varianza: ', df2['Juego_Vueltas'].var(), '\\n')\n",
        "print('Desviación estandar: ', df2['Juego_Vueltas'].std(), '\\n')\n",
        "print(\"Simetría de los datos:\", df2['Juego_Vueltas'].skew(), \"\\n\")\n",
        "print(\"Curtosis\", df2['Juego_Vueltas'].kurt())"
      ],
      "execution_count": 45,
      "outputs": [
        {
          "output_type": "stream",
          "name": "stdout",
          "text": [
            "count    3.739909e+06\n",
            "mean     6.251911e+00\n",
            "std      4.739733e+00\n",
            "min      0.000000e+00\n",
            "25%      3.000000e+00\n",
            "50%      5.000000e+00\n",
            "75%      9.000000e+00\n",
            "max      8.300000e+01\n",
            "Name: Juego_Vueltas, dtype: float64 \n",
            "\n",
            "Varianza:  22.465073515142542 \n",
            "\n",
            "Desviación estandar:  4.739733485665892 \n",
            "\n",
            "Simetría de los datos: 1.2683948770567326 \n",
            "\n",
            "Curtosis 2.270590063811904\n"
          ]
        }
      ]
    },
    {
      "cell_type": "markdown",
      "metadata": {
        "id": "rYrMxA3HQH3G"
      },
      "source": [
        "Por último, analizaremos las veces que el juego cambió de lado, es decir, cuando un jugador que tenía las de perder, logra tomar ventaja. En este caso, igualmente hay juegos dominados por 1 bando, es decir, 0 cambios de ventaja, y hay juegos donde cambiaron papeles hasta 83 veces. Vemos que la desviación estandar es poca, que hay asimetría positiva y la curtosis es muy alta, por lo que da indicios de que los juegos con varios cambios de ventajas, ya sea mas de 60 o 70 veces, son realmente atípicos, y que la mayoría puede que ronde entre unas 6 veces el cambio de ventajas o de posiciones ganadoras.  \n",
        "Con esto, damos por terminado la parte descriptiva, ahora veremos gráficas diversas que nos pueden aportar una mejor visualización de la información.  \n",
        "**GRÁFICAS**"
      ]
    }
  ]
}